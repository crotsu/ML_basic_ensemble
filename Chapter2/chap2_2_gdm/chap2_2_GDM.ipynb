{
 "cells": [
  {
   "cell_type": "markdown",
   "metadata": {},
   "source": [
    "# 最急降下法のデモ"
   ]
  },
  {
   "cell_type": "markdown",
   "metadata": {},
   "source": [
    "目的関数\n",
    "$$\n",
    "f(x) = (x-2)^2+1\n",
    "$$"
   ]
  },
  {
   "cell_type": "markdown",
   "metadata": {},
   "source": [
    "目的関数の導関数\n",
    "$$\n",
    "  f'(x)=2(x-2)\n",
    "$$"
   ]
  },
  {
   "cell_type": "markdown",
   "metadata": {},
   "source": [
    "最急降下法の更新式\n",
    "$$\n",
    "  x_{t+1} = x_{t} - \\eta \\frac{\\partial f(x_{t})}{\\partial x_{t}}\n",
    "$$"
   ]
  },
  {
   "cell_type": "markdown",
   "metadata": {},
   "source": [
    "具体的な更新式  \n",
    "(学習係数$\\eta=0.1$のとき)\n",
    "$$\n",
    "\\begin{align*}\n",
    "  x_{t+1} &= x_{t} - \\eta \\frac{\\partial f(x_{t})}{\\partial x_{t}} \\\\\n",
    "  &= x_t - 0.1\\times 2(x_t-2)\n",
    "\\end{align*}\n",
    "$$"
   ]
  },
  {
   "cell_type": "code",
   "execution_count": 43,
   "metadata": {},
   "outputs": [
    {
     "name": "stdout",
     "output_type": "stream",
     "text": [
      "3.0\n",
      "2.8\n",
      "2.6399999999999997\n",
      "2.5119999999999996\n",
      "2.4095999999999997\n",
      "2.32768\n",
      "2.262144\n",
      "2.2097152\n",
      "2.16777216\n",
      "2.1342177280000003\n",
      "2.1073741824\n",
      "2.08589934592\n",
      "2.068719476736\n",
      "2.0549755813888\n",
      "2.04398046511104\n",
      "2.035184372088832\n",
      "2.0281474976710654\n",
      "2.0225179981368524\n",
      "2.018014398509482\n",
      "2.0144115188075853\n",
      "2.0115292150460684\n",
      "2.0092233720368546\n",
      "2.0073786976294836\n",
      "2.005902958103587\n",
      "2.0047223664828695\n",
      "2.0037778931862955\n",
      "2.0030223145490362\n",
      "2.002417851639229\n",
      "2.001934281311383\n",
      "2.0015474250491065\n"
     ]
    }
   ],
   "source": [
    "def objective_func(x):\n",
    "    y = (x-2)**2+1\n",
    "    return y\n",
    "\n",
    "def objective_func_dash(x):\n",
    "    y = 2*(x-2)\n",
    "    return y\n",
    "\n",
    "a = 3.0\n",
    "eta = 0.1\n",
    "\n",
    "for i in range(30):\n",
    "    print(a)\n",
    "    a -= eta*objective_func_dash(a)"
   ]
  }
 ],
 "metadata": {
  "kernelspec": {
   "display_name": "Python 3",
   "language": "python",
   "name": "python3"
  },
  "language_info": {
   "codemirror_mode": {
    "name": "ipython",
    "version": 3
   },
   "file_extension": ".py",
   "mimetype": "text/x-python",
   "name": "python",
   "nbconvert_exporter": "python",
   "pygments_lexer": "ipython3",
   "version": "3.7.4"
  }
 },
 "nbformat": 4,
 "nbformat_minor": 2
}
