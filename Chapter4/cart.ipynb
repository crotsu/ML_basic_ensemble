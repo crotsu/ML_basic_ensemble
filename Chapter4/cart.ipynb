{
 "cells": [
  {
   "cell_type": "markdown",
   "metadata": {},
   "source": [
    "ある人（Aさん）が感じる夏の暑さと，温度と湿度のデータが与えられたとする．"
   ]
  },
  {
   "cell_type": "code",
   "execution_count": 1,
   "metadata": {},
   "outputs": [],
   "source": [
    "# データ\n",
    "# 温度，湿度，暑い(1)or暑くない(0)\n",
    "import numpy as np\n",
    "\n",
    "data = np.array([[17,40,0],\n",
    " [19,43,0],\n",
    " [20,64,0],\n",
    " [23,56,0],\n",
    " [23,56,0],\n",
    " [28,72,1],\n",
    " [28,49,0],\n",
    " [29,58,0],\n",
    " [30,67,1],\n",
    " [31,49,1],\n",
    " [33,62,1],\n",
    " [35,48,1]])"
   ]
  },
  {
   "cell_type": "code",
   "execution_count": 2,
   "metadata": {},
   "outputs": [
    {
     "data": {
      "text/plain": [
       "array([17, 19, 20, 23, 23, 28, 28, 29, 30, 31, 33, 35])"
      ]
     },
     "execution_count": 2,
     "metadata": {},
     "output_type": "execute_result"
    }
   ],
   "source": [
    "data[:,0]"
   ]
  },
  {
   "cell_type": "code",
   "execution_count": 3,
   "metadata": {},
   "outputs": [
    {
     "data": {
      "text/plain": [
       "array([40, 43, 64, 56, 56, 72, 49, 58, 67, 49, 62, 48])"
      ]
     },
     "execution_count": 3,
     "metadata": {},
     "output_type": "execute_result"
    }
   ],
   "source": [
    "data[:,1]"
   ]
  },
  {
   "cell_type": "code",
   "execution_count": 4,
   "metadata": {},
   "outputs": [
    {
     "data": {
      "text/plain": [
       "array([0, 0, 0, 0, 0, 1, 0, 0, 1, 1, 1, 1])"
      ]
     },
     "execution_count": 4,
     "metadata": {},
     "output_type": "execute_result"
    }
   ],
   "source": [
    "data[:,2]"
   ]
  },
  {
   "cell_type": "code",
   "execution_count": 5,
   "metadata": {},
   "outputs": [
    {
     "data": {
      "text/plain": [
       "['b', 'b', 'b', 'b', 'b', 'r', 'b', 'b', 'r', 'r', 'r', 'r']"
      ]
     },
     "execution_count": 5,
     "metadata": {},
     "output_type": "execute_result"
    }
   ],
   "source": [
    "# リスト内包表記で0を'b'に，1を'r'に変換\n",
    "['b' if i==0 else 'r' for i in data[:,2]]"
   ]
  },
  {
   "cell_type": "code",
   "execution_count": 6,
   "metadata": {},
   "outputs": [
    {
     "data": {
      "text/plain": [
       "<Figure size 640x480 with 1 Axes>"
      ]
     },
     "metadata": {},
     "output_type": "display_data"
    }
   ],
   "source": [
    "import matplotlib.pyplot as plt\n",
    "\n",
    "plt.scatter(data[:,0], data[:,1],s=100,c=['b' if i==0 else 'r' for i in data[:,2]])\n",
    "# グリッド表示\n",
    "plt.grid(True)\n",
    "\n",
    "# 表示\n",
    "plt.show()"
   ]
  },
  {
   "cell_type": "markdown",
   "metadata": {},
   "source": [
    "<img src=\"work/1.png\" width=\"400\">"
   ]
  },
  {
   "cell_type": "markdown",
   "metadata": {},
   "source": [
    "例えば，気温が29度で，湿度が58%のとき，Aさんは「暑くない」ということを表している．  \n",
    "このデータから，「温度と湿度がどのようなときに，暑いと感じるのか，暑くないと感じるのか」を決定木で判定したいとします．  \n",
    "すると，以下のような決定木が考えられます．  "
   ]
  },
  {
   "cell_type": "markdown",
   "metadata": {},
   "source": [
    "<img src=\"work/2.png\" width=\"300\">"
   ]
  },
  {
   "cell_type": "markdown",
   "metadata": {},
   "source": [
    "この決定木の条件で，気温と湿度のグラフに線を引くと以下のようになります．"
   ]
  },
  {
   "cell_type": "markdown",
   "metadata": {},
   "source": [
    "<img src=\"work/3.png\" width=\"400\">"
   ]
  },
  {
   "cell_type": "markdown",
   "metadata": {},
   "source": [
    "<img src=\"work/4.png\" width=\"400\">"
   ]
  },
  {
   "cell_type": "markdown",
   "metadata": {},
   "source": [
    "つまり，決定木のに温度と湿度を与えると，「暑い」or「暑くない」を判定することができる．"
   ]
  },
  {
   "cell_type": "markdown",
   "metadata": {},
   "source": [
    "# 決定木\n",
    "\n",
    "仕組みについて説明する．"
   ]
  },
  {
   "cell_type": "code",
   "execution_count": 7,
   "metadata": {},
   "outputs": [
    {
     "data": {
      "text/plain": [
       "[array([17, 19, 20, 23, 23, 28, 28, 29, 30, 31, 33, 35]),\n",
       " array([40, 43, 64, 56, 56, 72, 49, 58, 67, 49, 62, 48])]"
      ]
     },
     "execution_count": 7,
     "metadata": {},
     "output_type": "execute_result"
    }
   ],
   "source": [
    "[data[:,0],data[:,1]]"
   ]
  },
  {
   "cell_type": "code",
   "execution_count": 8,
   "metadata": {},
   "outputs": [
    {
     "data": {
      "text/plain": [
       "array([[17, 40],\n",
       "       [19, 43],\n",
       "       [20, 64],\n",
       "       [23, 56],\n",
       "       [23, 56],\n",
       "       [28, 72],\n",
       "       [28, 49],\n",
       "       [29, 58],\n",
       "       [30, 67],\n",
       "       [31, 49],\n",
       "       [33, 62],\n",
       "       [35, 48]])"
      ]
     },
     "execution_count": 8,
     "metadata": {},
     "output_type": "execute_result"
    }
   ],
   "source": [
    "data[:,[0,1]]"
   ]
  },
  {
   "cell_type": "code",
   "execution_count": 9,
   "metadata": {},
   "outputs": [
    {
     "name": "stdout",
     "output_type": "stream",
     "text": [
      "[0 0 0 0 0 0 0 0 1 1 1 1]\n"
     ]
    }
   ],
   "source": [
    "from sklearn import tree\n",
    "\n",
    "X = data[:,[0,1]]\n",
    "y = data[:,2]\n",
    "# モデルを作成\n",
    "clf = tree.DecisionTreeClassifier(max_depth=1)\n",
    "clf = clf.fit(X, y)\n",
    "\n",
    "predicted = clf.predict(X)\n",
    "print(predicted)"
   ]
  },
  {
   "cell_type": "code",
   "execution_count": 10,
   "metadata": {},
   "outputs": [],
   "source": [
    "tree.export_graphviz(clf, out_file = 'temp.dot')\n",
    "# dot -Tpdf temp.dot -o temp.pdf"
   ]
  },
  {
   "cell_type": "code",
   "execution_count": 11,
   "metadata": {},
   "outputs": [
    {
     "data": {
      "text/plain": [
       "<matplotlib.axes._subplots.AxesSubplot at 0x7f9a30846110>"
      ]
     },
     "execution_count": 11,
     "metadata": {},
     "output_type": "execute_result"
    },
    {
     "data": {
      "image/png": "[encoded data removed]",
      "text/plain": [
       "<Figure size 432x288 with 1 Axes>"
      ]
     },
     "metadata": {
      "needs_background": "light"
     },
     "output_type": "display_data"
    }
   ],
   "source": [
    "from mlxtend.plotting import plot_decision_regions\n",
    "plot_decision_regions(X, y, clf)"
   ]
  },
  {
   "cell_type": "markdown",
   "metadata": {},
   "source": [
    "# 原理"
   ]
  },
  {
   "cell_type": "markdown",
   "metadata": {},
   "source": [
    "ジニ係数\n",
    "\n",
    "$$\n",
    "Gini = 1-\\sum_i=1^N\n",
    "$$"
   ]
  },
  {
   "cell_type": "code",
   "execution_count": 149,
   "metadata": {},
   "outputs": [
    {
     "data": {
      "image/png": "[encoded data removed]",
      "text/plain": [
       "<Figure size 432x288 with 1 Axes>"
      ]
     },
     "metadata": {
      "needs_background": "light"
     },
     "output_type": "display_data"
    }
   ],
   "source": [
    "# 魚データ\n",
    "# 特徴ベクトル：2次元（体長, 体重）\n",
    "# ラベル数：2（サケとスズキ）\n",
    "\n",
    "# 確率密度関数で生成\n",
    "# 分散共分散行列で楕円を指定\n",
    "# ただし，データのオーバーラップを生じさせて，難しくする．\n",
    "\n",
    "import numpy as np\n",
    "import pandas as pd\n",
    "\n",
    "# 乱数の種を初期化\n",
    "np.random.seed(0)\n",
    "\n",
    "# データ数\n",
    "num1 = 100\n",
    "num2 = 100\n",
    "num = num1 + num2\n",
    "\n",
    "# 平均\n",
    "mu1 = [-2,2]\n",
    "mu2 = [2,-2]\n",
    "\n",
    "# 共分散\n",
    "cov = [[10,5],[5,10]]\n",
    "\n",
    "# 入力信号を生成\n",
    "x1, y1 = np.random.multivariate_normal(mu1, cov, num1).T\n",
    "x2, y2 = np.random.multivariate_normal(mu2, cov, num2).T\n",
    "\n",
    "x1 += 110\n",
    "y1 += 2800\n",
    "x2 += 110\n",
    "y2 += 2800\n",
    "\n",
    "# 教師信号を生成\n",
    "cls1 = [1 for i in range(num1)]\n",
    "cls2 = [-1 for i in range(num1)]\n",
    "\n",
    "# DataFrameに変換\n",
    "df1 = pd.DataFrame(np.array([x1,y1,cls1]).T, columns=['x1','x2','cls'])\n",
    "df2 = pd.DataFrame(np.array([x2,y2,cls2]).T, columns=['x1','x2','cls'])\n",
    "df = pd.concat([df1,df2],axis=0)\n",
    "df = df.reset_index()\n",
    "\n",
    "import sklearn.preprocessing as skl\n",
    "df.x1 = skl.scale(df.x1) #正規化\n",
    "df.x2 = skl.scale(df.x2) #正規化\n",
    "\n",
    "# 散布図をプロットする\n",
    "for i in range(len(df)):\n",
    "    if df.cls[i]==1:\n",
    "        plt.scatter(df.x1[i],df.x2[i], color='r',marker='o', s=30)\n",
    "    else:\n",
    "        plt.scatter(df.x1[i],df.x2[i], color='b',marker='x', s=30)\n",
    "\n",
    "# 表示範囲\n",
    "plt.xlim(-2.5, 2.5)\n",
    "plt.ylim(-2.5, 2.5)\n",
    "\n",
    "# グリッド表示\n",
    "plt.grid(True)\n",
    "\n",
    "# 表示\n",
    "plt.show()"
   ]
  },
  {
   "cell_type": "code",
   "execution_count": 164,
   "metadata": {},
   "outputs": [],
   "source": [
    "from sklearn import tree\n",
    "\n",
    "X = df[['x1','x2']].values\n",
    "y = df[['cls']].values\n",
    "y = y.reshape(len(y),) # ベクトルにする\n",
    "\n",
    "# モデルを作成\n",
    "clf = tree.DecisionTreeClassifier(max_depth=10)\n",
    "clf = clf.fit(X, y)"
   ]
  },
  {
   "cell_type": "code",
   "execution_count": 165,
   "metadata": {},
   "outputs": [
    {
     "name": "stdout",
     "output_type": "stream",
     "text": [
      "[ 1.  1.  1.  1.  1.  1.  1.  1.  1.  1.  1.  1.  1.  1.  1.  1.  1.  1.\n",
      "  1.  1.  1.  1.  1.  1.  1.  1.  1.  1.  1.  1.  1.  1.  1.  1.  1.  1.\n",
      "  1.  1.  1.  1.  1.  1.  1.  1.  1.  1.  1.  1.  1.  1.  1.  1.  1.  1.\n",
      "  1.  1.  1.  1.  1.  1.  1.  1.  1.  1.  1.  1.  1.  1.  1.  1.  1.  1.\n",
      "  1.  1.  1.  1.  1.  1.  1.  1.  1.  1.  1.  1.  1.  1.  1.  1.  1.  1.\n",
      "  1.  1.  1.  1.  1.  1.  1.  1.  1.  1. -1. -1. -1. -1. -1. -1. -1. -1.\n",
      " -1. -1. -1. -1. -1. -1. -1. -1. -1. -1. -1. -1. -1. -1. -1. -1. -1. -1.\n",
      " -1. -1. -1. -1. -1. -1. -1. -1. -1. -1. -1. -1. -1. -1. -1. -1. -1. -1.\n",
      " -1. -1. -1. -1. -1. -1. -1. -1. -1. -1. -1. -1. -1. -1. -1. -1. -1. -1.\n",
      " -1. -1. -1. -1. -1. -1. -1. -1. -1. -1. -1. -1. -1. -1. -1. -1. -1. -1.\n",
      " -1. -1. -1. -1. -1. -1. -1. -1. -1. -1. -1. -1. -1. -1. -1. -1. -1. -1.\n",
      " -1. -1.]\n"
     ]
    },
    {
     "data": {
      "text/plain": [
       "<matplotlib.axes._subplots.AxesSubplot at 0x7f9a30d19d50>"
      ]
     },
     "execution_count": 165,
     "metadata": {},
     "output_type": "execute_result"
    },
    {
     "data": {
      "image/png": "[encoded data removed]",
      "text/plain": [
       "<Figure size 432x288 with 1 Axes>"
      ]
     },
     "metadata": {
      "needs_background": "light"
     },
     "output_type": "display_data"
    }
   ],
   "source": [
    "y = np.array(ｙ, dtype=np.int64)\n",
    "\n",
    "predicted = clf.predict(X)\n",
    "print(predicted)\n",
    "tree.export_graphviz(clf, out_file = 'temp.dot')\n",
    "# dot -Tpdf temp.dot -o temp.pdf\n",
    "\n",
    "# 領域を表示\n",
    "from mlxtend.plotting import plot_decision_regions\n",
    "plot_decision_regions(X, y, clf)"
   ]
  },
  {
   "cell_type": "code",
   "execution_count": 166,
   "metadata": {},
   "outputs": [],
   "source": [
    "y = np.array(ｙ, dtype=np.int64)"
   ]
  },
  {
   "cell_type": "code",
   "execution_count": 167,
   "metadata": {},
   "outputs": [
    {
     "data": {
      "text/plain": [
       "DecisionTreeClassifier(class_weight=None, criterion='gini', max_depth=10,\n",
       "                       max_features=None, max_leaf_nodes=None,\n",
       "                       min_impurity_decrease=0.0, min_impurity_split=None,\n",
       "                       min_samples_leaf=1, min_samples_split=2,\n",
       "                       min_weight_fraction_leaf=0.0, presort=False,\n",
       "                       random_state=None, splitter='best')"
      ]
     },
     "execution_count": 167,
     "metadata": {},
     "output_type": "execute_result"
    }
   ],
   "source": [
    "clf"
   ]
  },
  {
   "cell_type": "code",
   "execution_count": 168,
   "metadata": {},
   "outputs": [
    {
     "name": "stdout",
     "output_type": "stream",
     "text": [
      "正解率(train):1.000\n"
     ]
    }
   ],
   "source": [
    "print('正解率(train):{:.3f}'.format(clf.score(X,y)))\n"
   ]
  },
  {
   "cell_type": "code",
   "execution_count": 169,
   "metadata": {},
   "outputs": [],
   "source": [
    "# 魚データ\n",
    "# 特徴ベクトル：2次元（体長, 体重）\n",
    "# ラベル数：2（サケとスズキ）\n",
    "\n",
    "# 確率密度関数で生成\n",
    "# 分散共分散行列で楕円を指定\n",
    "# ただし，データのオーバーラップを生じさせて，難しくする．\n",
    "\n",
    "import numpy as np\n",
    "import pandas as pd\n",
    "\n",
    "# 乱数の種を初期化\n",
    "np.random.seed(2)\n",
    "\n",
    "# データ数\n",
    "num1 = 100\n",
    "num2 = 100\n",
    "num = num1 + num2\n",
    "\n",
    "# 平均\n",
    "mu1 = [-2,2]\n",
    "mu2 = [2,-2]\n",
    "\n",
    "# 共分散\n",
    "cov = [[10,5],[5,10]]\n",
    "\n",
    "# 入力信号を生成\n",
    "x1, y1 = np.random.multivariate_normal(mu1, cov, num1).T\n",
    "x2, y2 = np.random.multivariate_normal(mu2, cov, num2).T\n",
    "\n",
    "x1 += 110\n",
    "y1 += 2800\n",
    "x2 += 110\n",
    "y2 += 2800\n",
    "\n",
    "# 教師信号を生成\n",
    "cls1 = [1 for i in range(num1)]\n",
    "cls2 = [-1 for i in range(num1)]\n",
    "\n",
    "# DataFrameに変換\n",
    "df1_test = pd.DataFrame(np.array([x1,y1,cls1]).T, columns=['x1','x2','cls'])\n",
    "df2_test = pd.DataFrame(np.array([x2,y2,cls2]).T, columns=['x1','x2','cls'])\n",
    "df_test = pd.concat([df1_test,df2_test],axis=0)\n",
    "df_test = df_test.reset_index()\n",
    "\n",
    "import sklearn.preprocessing as skl\n",
    "df_test.x1 = skl.scale(df_test.x1) #正規化\n",
    "df_test.x2 = skl.scale(df_test.x2) #正規化"
   ]
  },
  {
   "cell_type": "code",
   "execution_count": 170,
   "metadata": {},
   "outputs": [
    {
     "name": "stdout",
     "output_type": "stream",
     "text": [
      "[ 1.  1. -1.  1. -1.  1.  1.  1.  1.  1.  1.  1.  1.  1.  1.  1. -1.  1.\n",
      "  1.  1.  1.  1.  1.  1.  1.  1.  1.  1.  1. -1.  1.  1.  1.  1.  1.  1.\n",
      "  1.  1. -1. -1. -1.  1.  1.  1. -1.  1.  1.  1.  1. -1.  1.  1.  1.  1.\n",
      "  1.  1.  1.  1. -1.  1.  1.  1.  1.  1. -1.  1.  1.  1.  1.  1.  1. -1.\n",
      "  1.  1.  1.  1. -1.  1.  1.  1.  1. -1.  1.  1.  1. -1.  1.  1.  1.  1.\n",
      "  1.  1.  1.  1.  1.  1. -1.  1.  1.  1. -1.  1. -1. -1. -1. -1. -1. -1.\n",
      " -1. -1.  1. -1. -1. -1. -1.  1. -1.  1. -1. -1. -1. -1. -1. -1. -1. -1.\n",
      " -1. -1. -1.  1. -1. -1. -1. -1. -1. -1. -1. -1.  1. -1. -1. -1. -1. -1.\n",
      "  1. -1. -1. -1. -1. -1.  1. -1. -1.  1. -1. -1. -1. -1. -1. -1.  1. -1.\n",
      " -1. -1.  1. -1. -1. -1. -1. -1. -1. -1. -1.  1. -1. -1. -1. -1. -1.  1.\n",
      " -1. -1. -1.  1. -1. -1. -1. -1. -1.  1. -1. -1. -1. -1. -1. -1.  1. -1.\n",
      " -1. -1.]\n",
      "正解率(train):0.840\n"
     ]
    },
    {
     "data": {
      "image/png": "[encoded data removed]",
      "text/plain": [
       "<Figure size 432x288 with 1 Axes>"
      ]
     },
     "metadata": {
      "needs_background": "light"
     },
     "output_type": "display_data"
    }
   ],
   "source": [
    "\n",
    "X_test = df_test[['x1','x2']].values\n",
    "y_test = df_test[['cls']].values\n",
    "y_test = y.reshape(len(y),) # ベクトルにする\n",
    "\n",
    "y_test = np.array(ｙ_test, dtype=np.int64)\n",
    "\n",
    "predicted = clf.predict(X_test)\n",
    "print(predicted)\n",
    "tree.export_graphviz(clf, out_file = 'temp.dot')\n",
    "# dot -Tpdf temp.dot -o temp.pdf\n",
    "\n",
    "# 領域を表示\n",
    "from mlxtend.plotting import plot_decision_regions\n",
    "plot_decision_regions(X_test, y_test, clf)\n",
    "\n",
    "print('正解率(train):{:.3f}'.format(clf.score(X_test,y_test)))"
   ]
  },
  {
   "cell_type": "code",
   "execution_count": 133,
   "metadata": {},
   "outputs": [
    {
     "data": {
      "text/html": [
       "<div>\n",
       "<style scoped>\n",
       "    .dataframe tbody tr th:only-of-type {\n",
       "        vertical-align: middle;\n",
       "    }\n",
       "\n",
       "    .dataframe tbody tr th {\n",
       "        vertical-align: top;\n",
       "    }\n",
       "\n",
       "    .dataframe thead th {\n",
       "        text-align: right;\n",
       "    }\n",
       "</style>\n",
       "<table border=\"1\" class=\"dataframe\">\n",
       "  <thead>\n",
       "    <tr style=\"text-align: right;\">\n",
       "      <th></th>\n",
       "      <th>index</th>\n",
       "      <th>x1</th>\n",
       "      <th>x2</th>\n",
       "      <th>cls</th>\n",
       "    </tr>\n",
       "  </thead>\n",
       "  <tbody>\n",
       "    <tr>\n",
       "      <td>0</td>\n",
       "      <td>0</td>\n",
       "      <td>-1.929436</td>\n",
       "      <td>-0.844476</td>\n",
       "      <td>1.0</td>\n",
       "    </tr>\n",
       "    <tr>\n",
       "      <td>1</td>\n",
       "      <td>1</td>\n",
       "      <td>-2.319207</td>\n",
       "      <td>0.734053</td>\n",
       "      <td>1.0</td>\n",
       "    </tr>\n",
       "    <tr>\n",
       "      <td>2</td>\n",
       "      <td>2</td>\n",
       "      <td>-1.272255</td>\n",
       "      <td>-1.659492</td>\n",
       "      <td>1.0</td>\n",
       "    </tr>\n",
       "    <tr>\n",
       "      <td>3</td>\n",
       "      <td>3</td>\n",
       "      <td>-1.020511</td>\n",
       "      <td>-0.523777</td>\n",
       "      <td>1.0</td>\n",
       "    </tr>\n",
       "    <tr>\n",
       "      <td>4</td>\n",
       "      <td>4</td>\n",
       "      <td>-0.525302</td>\n",
       "      <td>0.573503</td>\n",
       "      <td>1.0</td>\n",
       "    </tr>\n",
       "    <tr>\n",
       "      <td>...</td>\n",
       "      <td>...</td>\n",
       "      <td>...</td>\n",
       "      <td>...</td>\n",
       "      <td>...</td>\n",
       "    </tr>\n",
       "    <tr>\n",
       "      <td>195</td>\n",
       "      <td>95</td>\n",
       "      <td>-0.018190</td>\n",
       "      <td>-0.948915</td>\n",
       "      <td>-1.0</td>\n",
       "    </tr>\n",
       "    <tr>\n",
       "      <td>196</td>\n",
       "      <td>96</td>\n",
       "      <td>1.420974</td>\n",
       "      <td>-0.997962</td>\n",
       "      <td>-1.0</td>\n",
       "    </tr>\n",
       "    <tr>\n",
       "      <td>197</td>\n",
       "      <td>97</td>\n",
       "      <td>0.918053</td>\n",
       "      <td>-0.587262</td>\n",
       "      <td>-1.0</td>\n",
       "    </tr>\n",
       "    <tr>\n",
       "      <td>198</td>\n",
       "      <td>98</td>\n",
       "      <td>-0.965637</td>\n",
       "      <td>-0.439330</td>\n",
       "      <td>-1.0</td>\n",
       "    </tr>\n",
       "    <tr>\n",
       "      <td>199</td>\n",
       "      <td>99</td>\n",
       "      <td>-1.271107</td>\n",
       "      <td>-1.054045</td>\n",
       "      <td>-1.0</td>\n",
       "    </tr>\n",
       "  </tbody>\n",
       "</table>\n",
       "<p>200 rows × 4 columns</p>\n",
       "</div>"
      ],
      "text/plain": [
       "     index        x1        x2  cls\n",
       "0        0 -1.929436 -0.844476  1.0\n",
       "1        1 -2.319207  0.734053  1.0\n",
       "2        2 -1.272255 -1.659492  1.0\n",
       "3        3 -1.020511 -0.523777  1.0\n",
       "4        4 -0.525302  0.573503  1.0\n",
       "..     ...       ...       ...  ...\n",
       "195     95 -0.018190 -0.948915 -1.0\n",
       "196     96  1.420974 -0.997962 -1.0\n",
       "197     97  0.918053 -0.587262 -1.0\n",
       "198     98 -0.965637 -0.439330 -1.0\n",
       "199     99 -1.271107 -1.054045 -1.0\n",
       "\n",
       "[200 rows x 4 columns]"
      ]
     },
     "execution_count": 133,
     "metadata": {},
     "output_type": "execute_result"
    }
   ],
   "source": [
    "df"
   ]
  },
  {
   "cell_type": "code",
   "execution_count": 134,
   "metadata": {},
   "outputs": [
    {
     "data": {
      "text/html": [
       "<div>\n",
       "<style scoped>\n",
       "    .dataframe tbody tr th:only-of-type {\n",
       "        vertical-align: middle;\n",
       "    }\n",
       "\n",
       "    .dataframe tbody tr th {\n",
       "        vertical-align: top;\n",
       "    }\n",
       "\n",
       "    .dataframe thead th {\n",
       "        text-align: right;\n",
       "    }\n",
       "</style>\n",
       "<table border=\"1\" class=\"dataframe\">\n",
       "  <thead>\n",
       "    <tr style=\"text-align: right;\">\n",
       "      <th></th>\n",
       "      <th>index</th>\n",
       "      <th>x1</th>\n",
       "      <th>x2</th>\n",
       "      <th>cls</th>\n",
       "    </tr>\n",
       "  </thead>\n",
       "  <tbody>\n",
       "    <tr>\n",
       "      <td>0</td>\n",
       "      <td>0</td>\n",
       "      <td>0.025869</td>\n",
       "      <td>0.559192</td>\n",
       "      <td>1.0</td>\n",
       "    </tr>\n",
       "    <tr>\n",
       "      <td>1</td>\n",
       "      <td>1</td>\n",
       "      <td>0.420157</td>\n",
       "      <td>2.632933</td>\n",
       "      <td>1.0</td>\n",
       "    </tr>\n",
       "    <tr>\n",
       "      <td>2</td>\n",
       "      <td>2</td>\n",
       "      <td>1.491423</td>\n",
       "      <td>1.142623</td>\n",
       "      <td>1.0</td>\n",
       "    </tr>\n",
       "    <tr>\n",
       "      <td>3</td>\n",
       "      <td>3</td>\n",
       "      <td>-0.033959</td>\n",
       "      <td>-0.691419</td>\n",
       "      <td>1.0</td>\n",
       "    </tr>\n",
       "    <tr>\n",
       "      <td>4</td>\n",
       "      <td>4</td>\n",
       "      <td>0.969612</td>\n",
       "      <td>0.586340</td>\n",
       "      <td>1.0</td>\n",
       "    </tr>\n",
       "    <tr>\n",
       "      <td>...</td>\n",
       "      <td>...</td>\n",
       "      <td>...</td>\n",
       "      <td>...</td>\n",
       "      <td>...</td>\n",
       "    </tr>\n",
       "    <tr>\n",
       "      <td>195</td>\n",
       "      <td>95</td>\n",
       "      <td>-1.535086</td>\n",
       "      <td>-1.172464</td>\n",
       "      <td>-1.0</td>\n",
       "    </tr>\n",
       "    <tr>\n",
       "      <td>196</td>\n",
       "      <td>96</td>\n",
       "      <td>-1.649619</td>\n",
       "      <td>0.088837</td>\n",
       "      <td>-1.0</td>\n",
       "    </tr>\n",
       "    <tr>\n",
       "      <td>197</td>\n",
       "      <td>97</td>\n",
       "      <td>-1.253888</td>\n",
       "      <td>-1.137660</td>\n",
       "      <td>-1.0</td>\n",
       "    </tr>\n",
       "    <tr>\n",
       "      <td>198</td>\n",
       "      <td>98</td>\n",
       "      <td>0.442512</td>\n",
       "      <td>-0.126628</td>\n",
       "      <td>-1.0</td>\n",
       "    </tr>\n",
       "    <tr>\n",
       "      <td>199</td>\n",
       "      <td>99</td>\n",
       "      <td>-0.018610</td>\n",
       "      <td>0.155556</td>\n",
       "      <td>-1.0</td>\n",
       "    </tr>\n",
       "  </tbody>\n",
       "</table>\n",
       "<p>200 rows × 4 columns</p>\n",
       "</div>"
      ],
      "text/plain": [
       "     index        x1        x2  cls\n",
       "0        0  0.025869  0.559192  1.0\n",
       "1        1  0.420157  2.632933  1.0\n",
       "2        2  1.491423  1.142623  1.0\n",
       "3        3 -0.033959 -0.691419  1.0\n",
       "4        4  0.969612  0.586340  1.0\n",
       "..     ...       ...       ...  ...\n",
       "195     95 -1.535086 -1.172464 -1.0\n",
       "196     96 -1.649619  0.088837 -1.0\n",
       "197     97 -1.253888 -1.137660 -1.0\n",
       "198     98  0.442512 -0.126628 -1.0\n",
       "199     99 -0.018610  0.155556 -1.0\n",
       "\n",
       "[200 rows x 4 columns]"
      ]
     },
     "execution_count": 134,
     "metadata": {},
     "output_type": "execute_result"
    }
   ],
   "source": [
    "df_test"
   ]
  },
  {
   "cell_type": "code",
   "execution_count": 176,
   "metadata": {},
   "outputs": [
    {
     "name": "stdout",
     "output_type": "stream",
     "text": [
      "[ 1.  1.  1.  1.  1.  1.  1.  1.  1.  1.  1.  1.  1.  1.  1.  1.  1.  1.\n",
      "  1.  1.  1.  1.  1.  1.  1.  1.  1.  1.  1.  1.  1.  1.  1.  1.  1.  1.\n",
      "  1.  1.  1.  1.  1.  1.  1.  1.  1.  1.  1.  1.  1.  1.  1.  1.  1.  1.\n",
      "  1.  1.  1.  1.  1.  1.  1.  1.  1.  1.  1.  1.  1.  1.  1.  1.  1.  1.\n",
      "  1.  1.  1.  1.  1.  1.  1.  1.  1.  1.  1.  1.  1.  1.  1.  1.  1.  1.\n",
      "  1.  1.  1.  1.  1.  1.  1.  1.  1.  1. -1. -1. -1. -1. -1. -1. -1. -1.\n",
      " -1. -1. -1. -1. -1. -1. -1. -1. -1. -1. -1. -1. -1. -1. -1. -1. -1. -1.\n",
      " -1. -1. -1. -1. -1. -1. -1. -1. -1. -1. -1. -1. -1. -1. -1. -1. -1. -1.\n",
      " -1. -1. -1. -1. -1. -1. -1. -1. -1. -1. -1. -1. -1. -1. -1. -1. -1. -1.\n",
      " -1. -1. -1. -1. -1. -1. -1. -1. -1. -1. -1. -1. -1. -1. -1. -1. -1. -1.\n",
      " -1. -1. -1. -1. -1. -1. -1. -1. -1. -1. -1. -1. -1. -1. -1. -1. -1. -1.\n",
      " -1. -1.]\n",
      "正解率(train):1.000\n"
     ]
    },
    {
     "data": {
      "image/png": "[encoded data removed]",
      "text/plain": [
       "<Figure size 432x288 with 1 Axes>"
      ]
     },
     "metadata": {
      "needs_background": "light"
     },
     "output_type": "display_data"
    }
   ],
   "source": [
    "from sklearn.ensemble import RandomForestClassifier\n",
    "forest = RandomForestClassifier(criterion='entropy',n_estimators=10)\n",
    "forest.fit(X,y)\n",
    "\n",
    "predicted = clf.predict(X)\n",
    "print(predicted)\n",
    "tree.export_graphviz(clf, out_file = 'temp.dot')\n",
    "# dot -Tpdf temp.dot -o temp.pdf\n",
    "\n",
    "# 領域を表示\n",
    "from mlxtend.plotting import plot_decision_regions\n",
    "plot_decision_regions(X, y, clf)\n",
    "\n",
    "print('正解率(train):{:.3f}'.format(clf.score(X,y)))"
   ]
  },
  {
   "cell_type": "code",
   "execution_count": null,
   "metadata": {},
   "outputs": [],
   "source": []
  },
  {
   "cell_type": "code",
   "execution_count": 174,
   "metadata": {},
   "outputs": [
    {
     "name": "stdout",
     "output_type": "stream",
     "text": [
      "[ 1.  1. -1.  1. -1.  1.  1.  1.  1.  1.  1.  1.  1.  1.  1.  1. -1.  1.\n",
      "  1.  1.  1.  1.  1.  1.  1.  1.  1.  1.  1. -1.  1.  1.  1.  1.  1.  1.\n",
      "  1.  1. -1. -1. -1.  1.  1.  1. -1.  1.  1.  1.  1. -1.  1.  1.  1.  1.\n",
      "  1.  1.  1.  1. -1.  1.  1.  1.  1.  1. -1.  1.  1.  1.  1.  1.  1. -1.\n",
      "  1.  1.  1.  1. -1.  1.  1.  1.  1. -1.  1.  1.  1. -1.  1.  1.  1.  1.\n",
      "  1.  1.  1.  1.  1.  1. -1.  1.  1.  1. -1.  1. -1. -1. -1. -1. -1. -1.\n",
      " -1. -1.  1. -1. -1. -1. -1.  1. -1.  1. -1. -1. -1. -1. -1. -1. -1. -1.\n",
      " -1. -1. -1.  1. -1. -1. -1. -1. -1. -1. -1. -1.  1. -1. -1. -1. -1. -1.\n",
      "  1. -1. -1. -1. -1. -1.  1. -1. -1.  1. -1. -1. -1. -1. -1. -1.  1. -1.\n",
      " -1. -1.  1. -1. -1. -1. -1. -1. -1. -1. -1.  1. -1. -1. -1. -1. -1.  1.\n",
      " -1. -1. -1.  1. -1. -1. -1. -1. -1.  1. -1. -1. -1. -1. -1. -1.  1. -1.\n",
      " -1. -1.]\n",
      "正解率(train):0.840\n"
     ]
    },
    {
     "data": {
      "image/png": "[encoded data removed]",
      "text/plain": [
       "<Figure size 432x288 with 1 Axes>"
      ]
     },
     "metadata": {
      "needs_background": "light"
     },
     "output_type": "display_data"
    }
   ],
   "source": [
    "predicted = clf.predict(X_test)\n",
    "print(predicted)\n",
    "tree.export_graphviz(clf, out_file = 'temp.dot')\n",
    "# dot -Tpdf temp.dot -o temp.pdf\n",
    "\n",
    "# 領域を表示\n",
    "from mlxtend.plotting import plot_decision_regions\n",
    "plot_decision_regions(X_test, y_test, clf)\n",
    "\n",
    "print('正解率(train):{:.3f}'.format(clf.score(X_test,y_test)))"
   ]
  },
  {
   "cell_type": "code",
   "execution_count": null,
   "metadata": {},
   "outputs": [],
   "source": []
  }
 ],
 "metadata": {
  "kernelspec": {
   "display_name": "Python 3",
   "language": "python",
   "name": "python3"
  },
  "language_info": {
   "codemirror_mode": {
    "name": "ipython",
    "version": 3
   },
   "file_extension": ".py",
   "mimetype": "text/x-python",
   "name": "python",
   "nbconvert_exporter": "python",
   "pygments_lexer": "ipython3",
   "version": "3.7.4"
  }
 },
 "nbformat": 4,
 "nbformat_minor": 2
}
