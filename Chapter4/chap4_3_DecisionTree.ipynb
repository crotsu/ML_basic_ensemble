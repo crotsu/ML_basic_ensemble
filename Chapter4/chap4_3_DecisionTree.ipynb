{
 "cells": [
  {
   "cell_type": "markdown",
   "metadata": {},
   "source": [
    "# 第4章 （3）決定木"
   ]
  },
  {
   "cell_type": "markdown",
   "metadata": {},
   "source": [
    "タイタニック号のデータを決定木によって学習し，誰が生存し，誰が死亡するのか当てる．  \n",
    "データはKaggleからダウンロードする．  \n",
    "[https://www.kaggle.com/c/titanic/data](https://www.kaggle.com/c/titanic/data)\n",
    "\n",
    "「Download All」からall.zipファイルをダウンロードする．  \n",
    "解凍すると，\n",
    "- gender_submission.csv \n",
    "- test.csv \n",
    "- train.csv\n",
    "\n",
    "の3つのCSVファイルが出てくる．\n",
    "トレーニングデータとテストデータの特徴量を以下に示す．\n",
    "\n",
    "|英語|日本語|\n",
    "|-|-|\n",
    "|PassengerId|識別ユニークID|\n",
    "|Survived|生存(1)or落命(0)|\n",
    "|Pclass|旅客等級|\n",
    "|Name|名前|\n",
    "|Sex|性別|\n",
    "|Age|年齢|\n",
    "|SibSp|同乗中の兄弟/配偶者の数|\n",
    "|Parch|同乗中の親/子供の数|\n",
    "|Ticket|チケット番号|\n",
    "|Fare|料金|\n",
    "|Cabin|客室番号|\n",
    "|Embarked|出発港|\n",
    "\n",
    "特徴量で，以下の3つは説明が必要なので加えます．  \n",
    "\n",
    "- Pclass(旅客等級）：値は1,2,3で，1が上級を表している．\n",
    "- Age(年齢)：乗客の年齢．ただし，少数のデータがあり，これは実年齢ではなく推定年齢を表している．\n",
    "- Embarked(出発港)：出発港は次の3つ．Cはシェルブール(Cherbourg)，Qはクイーンズタウン(Queenstown)，Sはサウサンプトン(Southampton)を表す．\n",
    "\n",
    "データ数はトレーニングデータが891，テストデータが418である．  \n"
   ]
  },
  {
   "cell_type": "code",
   "execution_count": null,
   "metadata": {},
   "outputs": [],
   "source": []
  }
 ],
 "metadata": {
  "kernelspec": {
   "display_name": "Python 3",
   "language": "python",
   "name": "python3"
  },
  "language_info": {
   "codemirror_mode": {
    "name": "ipython",
    "version": 3
   },
   "file_extension": ".py",
   "mimetype": "text/x-python",
   "name": "python",
   "nbconvert_exporter": "python",
   "pygments_lexer": "ipython3",
   "version": "3.7.4"
  }
 },
 "nbformat": 4,
 "nbformat_minor": 2
}
