{
 "cells": [
  {
   "cell_type": "markdown",
   "metadata": {},
   "source": [
    "# 第4章 （3）決定木\n",
    "\n",
    "機械学習には多くの手法が存在する．近年，高い認識精度を誇るDeep Learningが有名であるが，欠点としてブラックボックスとなってしまうということがある．つまり，入力に対して所望の出力を行うことができるが，その理由はわからないため，人間が意思決定するときの判断基準に困るという点がある．\n",
    "\n",
    "一方，決定木は認識精度ではDeep Learningに劣ってしまうが，決定木によって判定されるため，その意味理解が可能である点に特徴がある．\n",
    "\n",
    "ここでは，決定木について説明を行う．"
   ]
  },
  {
   "cell_type": "markdown",
   "metadata": {},
   "source": [
    "## 決定木の例"
   ]
  },
  {
   "cell_type": "markdown",
   "metadata": {},
   "source": [
    "ある人（Aさん）が感じる夏の暑さと，温度と湿度のデータが与えられたとする．"
   ]
  },
  {
   "cell_type": "code",
   "execution_count": 1,
   "metadata": {},
   "outputs": [],
   "source": [
    "# データ\n",
    "# 温度，湿度，暑い(1)or暑くない(0)\n",
    "import numpy as np\n",
    "\n",
    "data = np.array([\n",
    "    [17,40,0],\n",
    "    [19,43,0],\n",
    "    [20,64,0],\n",
    "    [23,56,0],\n",
    "    [28,72,1],\n",
    "    [28,49,0],\n",
    "    [29,58,0],\n",
    "    [30,67,1],\n",
    "    [31,49,1],\n",
    "    [33,62,1],\n",
    "    [35,48,1]])"
   ]
  },
  {
   "cell_type": "code",
   "execution_count": 2,
   "metadata": {},
   "outputs": [
    {
     "data": {
      "text/plain": [
       "array([17, 19, 20, 23, 28, 28, 29, 30, 31, 33, 35])"
      ]
     },
     "execution_count": 2,
     "metadata": {},
     "output_type": "execute_result"
    }
   ],
   "source": [
    "data[:,0]"
   ]
  },
  {
   "cell_type": "code",
   "execution_count": 3,
   "metadata": {},
   "outputs": [
    {
     "data": {
      "text/plain": [
       "array([40, 43, 64, 56, 72, 49, 58, 67, 49, 62, 48])"
      ]
     },
     "execution_count": 3,
     "metadata": {},
     "output_type": "execute_result"
    }
   ],
   "source": [
    "data[:,1]"
   ]
  },
  {
   "cell_type": "code",
   "execution_count": 4,
   "metadata": {},
   "outputs": [
    {
     "data": {
      "text/plain": [
       "array([0, 0, 0, 0, 1, 0, 0, 1, 1, 1, 1])"
      ]
     },
     "execution_count": 4,
     "metadata": {},
     "output_type": "execute_result"
    }
   ],
   "source": [
    "data[:,2]"
   ]
  },
  {
   "cell_type": "code",
   "execution_count": 5,
   "metadata": {},
   "outputs": [
    {
     "data": {
      "text/plain": [
       "['b', 'b', 'b', 'b', 'r', 'b', 'b', 'r', 'r', 'r', 'r']"
      ]
     },
     "execution_count": 5,
     "metadata": {},
     "output_type": "execute_result"
    }
   ],
   "source": [
    "# リスト内包表記で0を'b'に，1を'r'に変換\n",
    "['b' if i==0 else 'r' for i in data[:,2]]"
   ]
  },
  {
   "cell_type": "code",
   "execution_count": 6,
   "metadata": {},
   "outputs": [
    {
     "data": {
      "text/plain": [
       "<Figure size 640x480 with 1 Axes>"
      ]
     },
     "metadata": {},
     "output_type": "display_data"
    }
   ],
   "source": [
    "import matplotlib.pyplot as plt\n",
    "\n",
    "plt.scatter(data[:,0], data[:,1],s=100,c=['b' if i==0 else 'r' for i in data[:,2]])\n",
    "# グリッド表示\n",
    "plt.grid(True)\n",
    "\n",
    "# 表示\n",
    "plt.show()"
   ]
  },
  {
   "cell_type": "markdown",
   "metadata": {},
   "source": [
    "<img src=\"work/1.png\" width=\"400\">"
   ]
  },
  {
   "cell_type": "markdown",
   "metadata": {},
   "source": [
    "例えば，気温が29度で，湿度が58%のとき，Aさんは「暑くない」ということを表している．  \n",
    "このデータから，「温度と湿度がどのようなときに，暑いと感じるのか，暑くないと感じるのか」を決定木で判定したいとする．\n",
    "すると，以下のような決定木が考えられる．"
   ]
  },
  {
   "cell_type": "markdown",
   "metadata": {},
   "source": [
    "<img src=\"work/2.png\" width=\"300\">"
   ]
  },
  {
   "cell_type": "markdown",
   "metadata": {},
   "source": [
    "この決定木の条件で，気温と湿度のグラフに線を引くと以下のようになる．"
   ]
  },
  {
   "cell_type": "markdown",
   "metadata": {},
   "source": [
    "<img src=\"work/3.png\" width=\"400\">"
   ]
  },
  {
   "cell_type": "markdown",
   "metadata": {},
   "source": [
    "決定木によって，領域分割される．この領域に色を塗ると以下のようになる．"
   ]
  },
  {
   "cell_type": "markdown",
   "metadata": {},
   "source": [
    "<img src=\"work/4.png\" width=\"400\">"
   ]
  },
  {
   "cell_type": "markdown",
   "metadata": {},
   "source": [
    "つまり，決定木に温度と湿度を与えると，「暑い」or「暑くない」を判定することができる．"
   ]
  },
  {
   "cell_type": "markdown",
   "metadata": {},
   "source": [
    "# 決定木の仕組み\n",
    "\n",
    "決定木のアルゴリズムについて，その仕組みを説明する．"
   ]
  },
  {
   "cell_type": "markdown",
   "metadata": {},
   "source": [
    "## ノードの分割\n",
    "\n",
    "各ノードは，データを分割するルールを求めることになる．上記の例だと，2次元の特徴ベクトルがあるので，温度でわけるか，湿度でわけるか決定した後，いくらの値で分割するか決定することになる．\n",
    "\n",
    "つまり，各ノードにおける$d$次元特徴空間の最適な分割は，特徴軸ごとに可能な考え得る分割を，不純度と呼ばれる評価関数で評価し選択する．\n",
    "\n",
    "ある特徴軸が連続値の属性をもつ場合でも，学習データ数が$N$であれば，$N-1$の離散的な分割候補点があるだけである．つまり，隣り合った2点の中点を，その特徴軸の分割候補点に一つにすれば良い．"
   ]
  },
  {
   "cell_type": "markdown",
   "metadata": {},
   "source": [
    "## ジニ係数\n",
    "\n",
    "不純度を表す評価関数は，「誤り率」，「交差エントロピー」など様々あるが，一般的にはジニ係数を用いることが多い．\n",
    "\n",
    "ジニ係数を以下に示す．\n",
    "\n",
    "$$\n",
    "\\begin{align}\n",
    "I_G(t) &= \\sum_{j\\neq i}P(C_i|t)P(C_j|t) \\\\\n",
    "&=\\sum_{i=1}^K P(C_i|t)(1-P(C_i|t) \\\\\n",
    "&=1-\\sum_{i=1}^K P^2(C_i|t)\n",
    "\\end{align}\n",
    "$$\n",
    "\n",
    "ノード$t$で分割規則を作るとき，不純度の減り方が一番大きな分割を選べば良い．"
   ]
  },
  {
   "cell_type": "markdown",
   "metadata": {},
   "source": [
    "# 決定木の実装"
   ]
  },
  {
   "cell_type": "code",
   "execution_count": 7,
   "metadata": {},
   "outputs": [],
   "source": [
    "# データ\n",
    "# 温度，湿度，暑い(1)or暑くない(0)\n",
    "import numpy as np\n",
    "\n",
    "data = np.array([\n",
    "    [17,40,0],\n",
    "    [19,43,0],\n",
    "    [20,64,0],\n",
    "    [23,56,0],\n",
    "    [28,72,1],\n",
    "    [28,49,0],\n",
    "    [29,58,0],\n",
    "    [30,67,1],\n",
    "    [31,49,1],\n",
    "    [33,62,1],\n",
    "    [35,48,1]])"
   ]
  },
  {
   "cell_type": "markdown",
   "metadata": {},
   "source": [
    "### 深さ1の決定木"
   ]
  },
  {
   "cell_type": "code",
   "execution_count": null,
   "metadata": {},
   "outputs": [],
   "source": [
    "from sklearn import tree\n",
    "\n",
    "# 決定木に特徴ベクトルと教師信号を与える\n",
    "X = data[:,[0,1]]\n",
    "y = data[:,2]\n",
    "\n",
    "# モデルを作成\n",
    "model = tree.DecisionTreeClassifier(max_depth=1)\n",
    "model = model.fit(X, y)\n",
    "\n",
    "predicted = model.predict(X)"
   ]
  },
  {
   "cell_type": "code",
   "execution_count": 9,
   "metadata": {},
   "outputs": [],
   "source": [
    "tree.export_graphviz(model, out_file = 'temp.dot')\n",
    "# dot -Tpdf temp.dot -o temp.pdf\n",
    "# dot -Tjpg temp.dot -o temp.jpg"
   ]
  },
  {
   "cell_type": "code",
   "execution_count": 10,
   "metadata": {},
   "outputs": [
    {
     "data": {
      "text/plain": [
       "<matplotlib.axes._subplots.AxesSubplot at 0x7fb7aa8e66d0>"
      ]
     },
     "execution_count": 10,
     "metadata": {},
     "output_type": "execute_result"
    },
    {
     "data": {
      "image/png": "[encoded data removed]",
      "text/plain": [
       "<Figure size 432x288 with 1 Axes>"
      ]
     },
     "metadata": {
      "needs_background": "light"
     },
     "output_type": "display_data"
    }
   ],
   "source": [
    "from mlxtend.plotting import plot_decision_regions\n",
    "plot_decision_regions(X, y, model)"
   ]
  },
  {
   "cell_type": "markdown",
   "metadata": {},
   "source": [
    "![depth1](work/depth1.jpg)"
   ]
  },
  {
   "cell_type": "markdown",
   "metadata": {},
   "source": [
    "### 深さ2の決定木"
   ]
  },
  {
   "cell_type": "code",
   "execution_count": 12,
   "metadata": {},
   "outputs": [],
   "source": [
    "from sklearn import tree\n",
    "\n",
    "# 決定木に特徴ベクトルと教師信号を与える\n",
    "X = data[:,[0,1]]\n",
    "y = data[:,2]\n",
    "\n",
    "# モデルを作成\n",
    "model = tree.DecisionTreeClassifier(max_depth=2)\n",
    "model = model.fit(X, y)\n",
    "\n",
    "predicted = model.predict(X)"
   ]
  },
  {
   "cell_type": "code",
   "execution_count": 13,
   "metadata": {},
   "outputs": [],
   "source": [
    "tree.export_graphviz(model, out_file = 'temp.dot')\n",
    "# dot -Tpdf temp.dot -o temp.pdf\n",
    "# dot -Tjpg temp.dot -o temp.jpg"
   ]
  },
  {
   "cell_type": "code",
   "execution_count": 14,
   "metadata": {},
   "outputs": [
    {
     "data": {
      "text/plain": [
       "<matplotlib.axes._subplots.AxesSubplot at 0x7fb7aaa6b0d0>"
      ]
     },
     "execution_count": 14,
     "metadata": {},
     "output_type": "execute_result"
    },
    {
     "data": {
      "image/png": "[encoded data removed]",
      "text/plain": [
       "<Figure size 432x288 with 1 Axes>"
      ]
     },
     "metadata": {
      "needs_background": "light"
     },
     "output_type": "display_data"
    }
   ],
   "source": [
    "from mlxtend.plotting import plot_decision_regions\n",
    "plot_decision_regions(X, y, model)"
   ]
  },
  {
   "cell_type": "markdown",
   "metadata": {},
   "source": [
    "![depth2](work/depth2.jpg)"
   ]
  },
  {
   "cell_type": "markdown",
   "metadata": {},
   "source": [
    "## 入力データを変更して，いろいろ試してみよう．"
   ]
  },
  {
   "cell_type": "code",
   "execution_count": 89,
   "metadata": {},
   "outputs": [
    {
     "data": {
      "image/png": "[encoded data removed]",
      "text/plain": [
       "<Figure size 432x288 with 1 Axes>"
      ]
     },
     "metadata": {
      "needs_background": "light"
     },
     "output_type": "display_data"
    }
   ],
   "source": [
    "# データ\n",
    "# 温度，湿度，暑い(1)or暑くない(0)\n",
    "import numpy as np\n",
    "\n",
    "data = np.array([\n",
    "    [17,40,0],\n",
    "    [19,43,0],\n",
    "    [20,64,0],\n",
    "    [23,56,1], # わざと，このとき「暑い」というように，間違ったデータがトレーニングデータにあるとしよう．\n",
    "    [28,72,1],\n",
    "    [28,49,0],\n",
    "    [29,58,0],\n",
    "    [30,67,1],\n",
    "    [31,49,1],\n",
    "    [33,62,1],\n",
    "    [35,48,1]])\n",
    "\n",
    "import matplotlib.pyplot as plt\n",
    "\n",
    "plt.scatter(data[:,0], data[:,1],s=100,c=['b' if i==0 else 'r' for i in data[:,2]])\n",
    "# グリッド表示\n",
    "plt.grid(True)\n",
    "\n",
    "# 表示\n",
    "plt.show()"
   ]
  },
  {
   "cell_type": "code",
   "execution_count": 91,
   "metadata": {},
   "outputs": [
    {
     "data": {
      "text/plain": [
       "<matplotlib.axes._subplots.AxesSubplot at 0x7f89f0d24610>"
      ]
     },
     "execution_count": 91,
     "metadata": {},
     "output_type": "execute_result"
    },
    {
     "data": {
      "image/png": "[encoded data removed]",
      "text/plain": [
       "<Figure size 432x288 with 1 Axes>"
      ]
     },
     "metadata": {
      "needs_background": "light"
     },
     "output_type": "display_data"
    }
   ],
   "source": [
    "from sklearn import tree\n",
    "\n",
    "# 決定木に特徴ベクトルと教師信号を与える\n",
    "X = data[:,[0,1]]\n",
    "y = data[:,2]\n",
    "\n",
    "# モデルを作成\n",
    "model = tree.DecisionTreeClassifier(max_depth=2)\n",
    "model = model.fit(X, y)\n",
    "\n",
    "predicted = model.predict(X)\n",
    "\n",
    "tree.export_graphviz(model, out_file = 'temp.dot')\n",
    "# dot -Tpdf temp.dot -o temp.pdf\n",
    "# dot -Tjpg temp.dot -o temp.jpg\n",
    "\n",
    "from mlxtend.plotting import plot_decision_regions\n",
    "plot_decision_regions(X, y, model)"
   ]
  },
  {
   "cell_type": "markdown",
   "metadata": {},
   "source": [
    "![depth2_wrong](work/depth2_wrong.jpg)"
   ]
  },
  {
   "cell_type": "code",
   "execution_count": 92,
   "metadata": {},
   "outputs": [
    {
     "data": {
      "text/plain": [
       "<matplotlib.axes._subplots.AxesSubplot at 0x7f89f0eb8750>"
      ]
     },
     "execution_count": 92,
     "metadata": {},
     "output_type": "execute_result"
    },
    {
     "data": {
      "image/png": "[encoded data removed]",
      "text/plain": [
       "<Figure size 432x288 with 1 Axes>"
      ]
     },
     "metadata": {
      "needs_background": "light"
     },
     "output_type": "display_data"
    }
   ],
   "source": [
    "from sklearn import tree\n",
    "\n",
    "# 決定木に特徴ベクトルと教師信号を与える\n",
    "X = data[:,[0,1]]\n",
    "y = data[:,2]\n",
    "\n",
    "# モデルを作成\n",
    "model = tree.DecisionTreeClassifier() # 深さを指定しない．この場合，完全に分割するまで学習を行う．通常，過学習になる．\n",
    "model = model.fit(X, y)\n",
    "\n",
    "predicted = model.predict(X)\n",
    "\n",
    "tree.export_graphviz(model, out_file = 'temp.dot')\n",
    "# dot -Tpdf temp.dot -o temp.pdf\n",
    "# dot -Tjpg temp.dot -o temp.jpg\n",
    "\n",
    "from mlxtend.plotting import plot_decision_regions\n",
    "plot_decision_regions(X, y, model)"
   ]
  },
  {
   "cell_type": "markdown",
   "metadata": {},
   "source": [
    "![depth3](work/depth3.jpg)"
   ]
  },
  {
   "cell_type": "markdown",
   "metadata": {},
   "source": [
    "決定木の弱点は，深さを適切に設定しないと過学習してしまうことである．この例では，温度23度，湿度56％のとき，「暑い」という間違った(?)教師信号を与えたため，これを学習するために，深さ4の決定木を作成してしまった．そのせいで，温度が21．5度以上25.5度以下のとき，湿度に関係なく暑いという結果になってしまった．\n",
    "\n",
    "これを避けるために，第5章で述べる集団学習がある．"
   ]
  },
  {
   "cell_type": "markdown",
   "metadata": {},
   "source": [
    "# もっと大きなデータで行ってみる．"
   ]
  },
  {
   "cell_type": "code",
   "execution_count": 93,
   "metadata": {},
   "outputs": [
    {
     "data": {
      "image/png": "[encoded data removed]",
      "text/plain": [
       "<Figure size 432x288 with 1 Axes>"
      ]
     },
     "metadata": {
      "needs_background": "light"
     },
     "output_type": "display_data"
    }
   ],
   "source": [
    "# 魚データ\n",
    "# 特徴ベクトル：2次元（体長, 体重）\n",
    "# ラベル数：2（サケ(A)とスズキ(B)）\n",
    "\n",
    "# 確率密度関数で生成\n",
    "# 分散共分散行列で楕円を指定\n",
    "# ただし，データのオーバーラップを生じさせて，難しくする．\n",
    "# トレーニングデータとテストデータを作成する．\n",
    "\n",
    "import numpy as np\n",
    "import pandas as pd\n",
    "\n",
    "# 乱数の種を初期化\n",
    "np.random.seed(0)\n",
    "\n",
    "# データ数\n",
    "numA = 200 # Aをサケ\n",
    "numB = 200 # Bをスズキ\n",
    "numAll = numA + numB\n",
    "\n",
    "# 平均\n",
    "muA = [-2,2]\n",
    "muB = [2,-2]\n",
    "\n",
    "# 共分散\n",
    "cov = [[10,5],[5,10]]\n",
    "\n",
    "# 入力信号を生成\n",
    "xA, yA = np.random.multivariate_normal(muA, cov, numA).T\n",
    "xB, yB = np.random.multivariate_normal(muB, cov, numB).T\n",
    "\n",
    "# 教師信号を生成\n",
    "clsA = [1 for i in range(numA)]\n",
    "clsB = [0 for i in range(numB)]\n",
    "\n",
    "# DataFrameに変換\n",
    "dfA = pd.DataFrame(np.array([xA,yA,clsA]).T, columns=['cm','kg','cls'])\n",
    "dfB = pd.DataFrame(np.array([xB,yB,clsB]).T, columns=['cm','kg','cls'])\n",
    "dfAll = pd.concat([dfA,dfB],axis=0)\n",
    "dfAll = dfAll.reset_index(drop=True)\n",
    "\n",
    "# 散布図をプロットする\n",
    "for i in range(len(dfAll)):\n",
    "    if dfAll.cls[i]==1:\n",
    "        plt.scatter(dfAll.cm[i],dfAll.kg[i], color='r',marker='o', s=30)\n",
    "    else:\n",
    "        plt.scatter(dfAll.cm[i],dfAll.kg[i], color='b',marker='x', s=30)\n",
    "plt.grid(True)\n",
    "plt.show()"
   ]
  },
  {
   "cell_type": "code",
   "execution_count": 94,
   "metadata": {},
   "outputs": [],
   "source": [
    "# データをトレーニングデータとテストデータに分ける．\n",
    "from sklearn.model_selection import train_test_split\n",
    "X = dfAll[['cm','kg']].values\n",
    "y = dfAll[['cls']].values\n",
    "y = y.reshape(len(y),) # ベクトルにする\n",
    "y = np.array(y, dtype=np.int64)\n",
    "\n",
    "X_train, X_test, y_train, y_test = train_test_split(X,y,random_state=0)"
   ]
  },
  {
   "cell_type": "markdown",
   "metadata": {},
   "source": [
    "## 深さ4の決定木"
   ]
  },
  {
   "cell_type": "code",
   "execution_count": 130,
   "metadata": {},
   "outputs": [
    {
     "data": {
      "text/plain": [
       "<matplotlib.axes._subplots.AxesSubplot at 0x7f89b371a950>"
      ]
     },
     "execution_count": 130,
     "metadata": {},
     "output_type": "execute_result"
    },
    {
     "data": {
      "image/png": "[encoded data removed]",
      "text/plain": [
       "<Figure size 432x288 with 1 Axes>"
      ]
     },
     "metadata": {
      "needs_background": "light"
     },
     "output_type": "display_data"
    }
   ],
   "source": [
    "# モデルを作成\n",
    "model = tree.DecisionTreeClassifier(max_depth=4)\n",
    "model = model.fit(X_train, y_train)\n",
    "\n",
    "predicted = model.predict(X_train)\n",
    "\n",
    "tree.export_graphviz(model, out_file = 'temp.dot')\n",
    "# dot -Tpdf temp.dot -o temp.pdf\n",
    "# dot -Tjpg temp.dot -o temp.jpg\n",
    "\n",
    "from mlxtend.plotting import plot_decision_regions\n",
    "plot_decision_regions(X_train, y_train, model)"
   ]
  },
  {
   "cell_type": "code",
   "execution_count": 123,
   "metadata": {},
   "outputs": [
    {
     "name": "stdout",
     "output_type": "stream",
     "text": [
      "正解率(train):0.937\n"
     ]
    }
   ],
   "source": [
    "print('正解率(train):{:.3f}'.format(model.score(X_train,y_train)))"
   ]
  },
  {
   "cell_type": "code",
   "execution_count": 124,
   "metadata": {},
   "outputs": [
    {
     "data": {
      "text/plain": [
       "<matplotlib.axes._subplots.AxesSubplot at 0x7f89b35409d0>"
      ]
     },
     "execution_count": 124,
     "metadata": {},
     "output_type": "execute_result"
    },
    {
     "data": {
      "image/png": "[encoded data removed]",
      "text/plain": [
       "<Figure size 432x288 with 1 Axes>"
      ]
     },
     "metadata": {
      "needs_background": "light"
     },
     "output_type": "display_data"
    }
   ],
   "source": [
    "predicted = model.predict(X_test)\n",
    "\n",
    "from mlxtend.plotting import plot_decision_regions\n",
    "plot_decision_regions(X_test, y_test, model)"
   ]
  },
  {
   "cell_type": "code",
   "execution_count": 125,
   "metadata": {},
   "outputs": [
    {
     "name": "stdout",
     "output_type": "stream",
     "text": [
      "正解率(train):0.850\n"
     ]
    }
   ],
   "source": [
    "print('正解率(train):{:.3f}'.format(model.score(X_test,y_test)))"
   ]
  },
  {
   "cell_type": "markdown",
   "metadata": {},
   "source": [
    "## 深さ20の決定木"
   ]
  },
  {
   "cell_type": "code",
   "execution_count": 126,
   "metadata": {},
   "outputs": [
    {
     "data": {
      "text/plain": [
       "<matplotlib.axes._subplots.AxesSubplot at 0x7f89b2938290>"
      ]
     },
     "execution_count": 126,
     "metadata": {},
     "output_type": "execute_result"
    },
    {
     "data": {
      "image/png": "[encoded data removed]",
      "text/plain": [
       "<Figure size 432x288 with 1 Axes>"
      ]
     },
     "metadata": {
      "needs_background": "light"
     },
     "output_type": "display_data"
    }
   ],
   "source": [
    "# モデルを作成\n",
    "model = tree.DecisionTreeClassifier(max_depth=20)\n",
    "model = model.fit(X_train, y_train)\n",
    "\n",
    "predicted = model.predict(X_train)\n",
    "\n",
    "tree.export_graphviz(model, out_file = 'temp.dot')\n",
    "# dot -Tpdf temp.dot -o temp.pdf\n",
    "# dot -Tjpg temp.dot -o temp.jpg\n",
    "\n",
    "from mlxtend.plotting import plot_decision_regions\n",
    "plot_decision_regions(X_train, y_train, model)"
   ]
  },
  {
   "cell_type": "code",
   "execution_count": 127,
   "metadata": {},
   "outputs": [
    {
     "name": "stdout",
     "output_type": "stream",
     "text": [
      "正解率(train):1.000\n"
     ]
    }
   ],
   "source": [
    "print('正解率(train):{:.3f}'.format(model.score(X_train,y_train)))"
   ]
  },
  {
   "cell_type": "code",
   "execution_count": 128,
   "metadata": {},
   "outputs": [
    {
     "data": {
      "text/plain": [
       "<matplotlib.axes._subplots.AxesSubplot at 0x7f89f0f132d0>"
      ]
     },
     "execution_count": 128,
     "metadata": {},
     "output_type": "execute_result"
    },
    {
     "data": {
      "image/png": "[encoded data removed]",
      "text/plain": [
       "<Figure size 432x288 with 1 Axes>"
      ]
     },
     "metadata": {
      "needs_background": "light"
     },
     "output_type": "display_data"
    }
   ],
   "source": [
    "predicted = model.predict(X_test)\n",
    "\n",
    "from mlxtend.plotting import plot_decision_regions\n",
    "plot_decision_regions(X_test, y_test, model)"
   ]
  },
  {
   "cell_type": "code",
   "execution_count": 129,
   "metadata": {},
   "outputs": [
    {
     "name": "stdout",
     "output_type": "stream",
     "text": [
      "正解率(test):0.840\n"
     ]
    }
   ],
   "source": [
    "print('正解率(test):{:.3f}'.format(model.score(X_test,y_test)))"
   ]
  },
  {
   "cell_type": "markdown",
   "metadata": {},
   "source": [
    "### まとめ\n",
    "\n",
    "決定木は，過学習するため，適切に深さを設定する必要がある．\n",
    "\n",
    "|決定木|Train|Test|\n",
    "|---|---|---|\n",
    "|深さ=4|0.937|0.850|\n",
    "|深さ=20|1.000|0.840|\n"
   ]
  },
  {
   "cell_type": "markdown",
   "metadata": {},
   "source": [
    "![depth20](work/depth4.jpg)"
   ]
  },
  {
   "cell_type": "markdown",
   "metadata": {},
   "source": [
    "![depth20](work/depth20.jpg)"
   ]
  }
 ],
 "metadata": {
  "kernelspec": {
   "display_name": "Python 3",
   "language": "python",
   "name": "python3"
  },
  "language_info": {
   "codemirror_mode": {
    "name": "ipython",
    "version": 3
   },
   "file_extension": ".py",
   "mimetype": "text/x-python",
   "name": "python",
   "nbconvert_exporter": "python",
   "pygments_lexer": "ipython3",
   "version": "3.7.4"
  }
 },
 "nbformat": 4,
 "nbformat_minor": 2
}
