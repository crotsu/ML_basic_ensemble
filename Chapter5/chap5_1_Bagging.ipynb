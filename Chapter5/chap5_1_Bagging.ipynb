{
 "cells": [
  {
   "cell_type": "markdown",
   "metadata": {},
   "source": [
    "# 第5章 （1）バギング"
   ]
  },
  {
   "cell_type": "markdown",
   "metadata": {},
   "source": [
    "集団学習（アンサンブル学習）とは，複数の機械学習を組み合わせることで，結果として優れたモデルを作成する手法のことである．集団学習の中でも簡単なバギング(Bagging)の説明から行う．"
   ]
  },
  {
   "cell_type": "markdown",
   "metadata": {},
   "source": [
    "## ノーフリーランチ定理\n",
    "\n",
    "まず，なぜ複数の機械学習を組み合わせるのだろうか．それは，これまでに数多くの機械学習アルゴリズムが提案されてきたが，どのような問題にも対しても1番性能が良い機械学習アルゴリズムが存在しないことが証明されているからである．それをノーフリーランチ定理という．ここでは，数式を用いた証明は省略し，簡単に説明したいと思う．\n",
    "\n",
    "ノーフリーランチ定理とは，「すべての識別問題に対して，他の識別器より識別性能が良い識別器は存在しない．」というものである．これを別の表現で言うと「「あるアルゴリズム A がある予測問題で，アルゴリズム B より汎化誤差に関して性能が良かったとしても，アルゴリズム B が A より良くなるような別の予測問題が存在する」となる．\n",
    "\n",
    "図で示す．\n",
    "\n",
    "<img src=\"work/NoFreeLunch.gif\" width=\"600\">\n",
    "\n",
    "つまり，この定理によれば，ある識別器が他よりも汎化性能が良いといえるのは特定の認識問題についてのみである．対象とする問題領域を規定しなければ，汎化性能はすべて同じになる．\n",
    "\n",
    "そこで，様々な識別器を用意し，それらを組み合わせることで，汎化性能を向上させようとする手法が集団学習である．\n",
    "\n",
    "第5章では，集団学習の代表的な手法であるバギング，ブースティング（AdaBoost），ランダムフォレストについて説明を行う．"
   ]
  },
  {
   "cell_type": "markdown",
   "metadata": {},
   "source": [
    "## バイアス-バリアンスのトレードオフ\n",
    "\n",
    "「統計学と機械学習において，パラメータの推定においてバイアス（偏り）を減らすと標本間のバリアンス（分散）が増え，同時にその逆も成立する．」という予測モデルの特徴のことである．\n",
    "\n",
    "機械学習の目的は，「観測不能な真の値と予測値との誤差を可能な限り小さくする」ことである．\n",
    "つまり，\n",
    "\n",
    "損失の期待値＝バイアス＋バリアンス＋ノイズ\n",
    "\n",
    "となる．機械学習では，「損失の期待値」が最小になるようにモデルを作成します．しかし，上の式の右辺の3番目「ノイズ」は制御できない．\n",
    "したがって，バイアスとバリアンスをいかに小さくするかがポイントとなる．\n",
    "\n",
    "### バイアスとは\n",
    "訓練データのデータセット$(X, y)$を使ってXからyを予測する機械学習モデルf(X)を作ったとする．\n",
    "\n",
    "バイアスとは，「訓練データの y」と「予測した値 f(X)」のズレのことである．\n",
    "\n",
    "バイアスが大きいということは，データと予測値がかけ離れている，つまりモデルが実データをうまく再現できていないということです．\n",
    "つまり，「学習不足だ！」「学習がいまいちだ」ということが言えます．\n",
    "\n",
    "例えば，訓練データがsin波のような波状のグラフに沿って分布している場合，直線のモデルだとうまくフィットできない．そんな感じとなる．\n",
    "\n",
    "### バリアンスとは\n",
    "バリアンスとは，訓練データのデータセットを変えたら，訓練データのyと予測した値f(X)のズレが大きくなったり小さくなったりすることである．\n",
    "\n",
    "言い換えると，モデルの汎用性のなさである．\n",
    "\n",
    "例えば，ある機械学習モデルを作ったとします．10000個の訓練データを100個ずつに分けて，それぞれについてこのモデルを使って計算したとします。\n",
    "\n",
    "この100回の実データ／予測データのズレを平均したものがバイアスに相当する．\n",
    "\n",
    "この100回の実データ／予測データのズレのばらつきがバリアンスに相当する．\n",
    "\n",
    "バリアンスが大きいということは，訓練データの一部にフィットしすぎて，他のものにフィットしなくなる状態を言います．\n",
    "\n",
    "グラフが不自然に細かくグネグネしてるものは，たいていバリアンスが大きいモデルです．\n",
    "\n",
    "逆にバリアンスが小さいということは，グラフが滑らかな傾向です．\n",
    "\n",
    "### 結局のところ\n",
    "バイアスは「真の値と予測値の平均の誤差」\n",
    "バリアンスは「予測値のばらつき」である．\n",
    "\n",
    "テストデータに対して汎化性能の高い機械を作りたいわけだが，これをバイアスとバリアンスの言葉を使うと，  \n",
    "「バイアスが小さく，かつ，バリアンスも小さくしたい．」  \n",
    "「しかし，バイアスとバリアンスはトレードオフになっている．」  \n",
    "ということである．"
   ]
  },
  {
   "cell_type": "markdown",
   "metadata": {},
   "source": [
    "## バギング (Bagging)\n",
    "\n",
    "複数の識別器を組み合わせる手法の一つに，バギング (Bagging)がある．バギング (Bagging)とは，Bootstrap Aggregatingから派生した語句である．\n",
    "\n",
    "その名前の通り，バギングは学習データのブートストラップサンプルを用いて複数の識別器を学習させ，新しい入力データのクラスはそれらの識別器の多数決で決めるという方法である．\n",
    "\n",
    "個々の識別器の性能はランダム識別器よりも少し良ければいいので，弱学習器と呼ばれる．一般的に，機械学習のアルゴリズムは，バイアス-バリアンスのトレードオフがあるため，学習データに過学習をしないように適切にパラメータを調整する必要がある．バギングでは，ブートストラップサンプルによって，仮に過学習してしまった弱学習器があったとしても，多数決のときには排除されるため，全体としては安定した性能の識別器を構築することができる．"
   ]
  },
  {
   "cell_type": "markdown",
   "metadata": {},
   "source": [
    "### 学習データのブートストラップサンプル\n",
    "\n",
    "バギングでは，単一の学習データからランダムサンプリングによって，各弱学習器の学習データを作成する．このとき，元の学習データ$N$個から重複を許してランダムに$n_M$個抽出する．これをブートストラップサンプリングという．これを，弱学習器$M$個作成する．各ブートストラップサンプルは元の学習データには似ているが，少し違う学習データとなるため，それを学習する弱学習器も，それぞれ少し異なることになる．バギングの様子を以下の図に示す．\n",
    "\n",
    "また，各弱学習器は並列に学習も可能である．\n",
    "\n",
    "<img src=\"work/1.png\" width=\"600\">"
   ]
  },
  {
   "cell_type": "markdown",
   "metadata": {},
   "source": [
    "実は，バギングのアルゴリズムは，単にブートストラップサンプリングするだけなので実装は簡単である．実際に決定木にバギングを適用して性能評価を行う．"
   ]
  },
  {
   "cell_type": "code",
   "execution_count": 1,
   "metadata": {},
   "outputs": [
    {
     "data": {
      "text/plain": [
       "<Figure size 640x480 with 1 Axes>"
      ]
     },
     "metadata": {},
     "output_type": "display_data"
    },
    {
     "data": {
      "text/plain": [
       "<Figure size 640x480 with 1 Axes>"
      ]
     },
     "metadata": {},
     "output_type": "display_data"
    },
    {
     "data": {
      "text/plain": [
       "<Figure size 640x480 with 1 Axes>"
      ]
     },
     "metadata": {},
     "output_type": "display_data"
    }
   ],
   "source": [
    "# 魚データ\n",
    "# 特徴ベクトル：2次元（体長, 体重）\n",
    "# ラベル数：2（サケ(A)とスズキ(B)）\n",
    "\n",
    "# 確率密度関数で生成\n",
    "# 分散共分散行列で楕円を指定\n",
    "# ただし，データのオーバーラップを生じさせて，難しくする．\n",
    "# トレーニングデータとテストデータを作成する．\n",
    "\n",
    "import numpy as np\n",
    "import pandas as pd\n",
    "\n",
    "# 乱数の種を初期化\n",
    "np.random.seed(0)\n",
    "\n",
    "# データ数\n",
    "numA = 200 # Aをサケ\n",
    "numB = 200 # Bをスズキ\n",
    "numAll = numA + numB\n",
    "\n",
    "# 平均\n",
    "muA = [-2,2]\n",
    "muB = [2,-2]\n",
    "\n",
    "# 共分散\n",
    "cov = [[30,15],[15,30]]\n",
    "\n",
    "# 入力信号を生成\n",
    "xA, yA = np.random.multivariate_normal(muA, cov, numA).T\n",
    "xB, yB = np.random.multivariate_normal(muB, cov, numB).T\n",
    "\n",
    "# 教師信号を生成\n",
    "clsA = [1 for i in range(numA)]\n",
    "clsB = [0 for i in range(numB)]\n",
    "\n",
    "# DataFrameに変換\n",
    "dfA = pd.DataFrame(np.array([xA,yA,clsA]).T, columns=['cm','kg','cls'])\n",
    "dfB = pd.DataFrame(np.array([xB,yB,clsB]).T, columns=['cm','kg','cls'])\n",
    "dfAll = pd.concat([dfA,dfB],axis=0)\n",
    "dfAll = dfAll.reset_index(drop=True)\n",
    "\n",
    "import sklearn.preprocessing as skl\n",
    "dfAll.cm = skl.scale(dfAll.cm) #正規化\n",
    "dfAll.kg = skl.scale(dfAll.kg) #正規化\n",
    "\n",
    "# データ全体からトレーニングデータとテストデータを作成する．\n",
    "df_s = dfAll.sample(frac=1, random_state=0).reset_index(drop=True) # ランダムシャッフル\n",
    "n = int(numAll *0.5)\n",
    "df_train = df_s[0:n].copy().reset_index(drop=True)\n",
    "df_test = df_s[n:numAll].copy().reset_index(drop=True)\n",
    "\n",
    "import matplotlib.pyplot as plt\n",
    "\n",
    "\n",
    "# 散布図をプロットする\n",
    "fig1 = plt.figure(1)\n",
    "fig2 = plt.figure(2)\n",
    "fig3 = plt.figure(3)\n",
    "\n",
    "# データ全体\n",
    "plt.figure(1)\n",
    "for i in range(len(df_s)):\n",
    "    if df_s.cls[i]==1:\n",
    "        plt.scatter(df_s.cm[i],df_s.kg[i], color='r',marker='o', s=30)\n",
    "    else:\n",
    "        plt.scatter(df_s.cm[i],df_s.kg[i], color='b',marker='x', s=30)\n",
    "plt.xlim(-2.5, 2.5)\n",
    "plt.ylim(-2.5, 2.5)\n",
    "plt.grid(True)\n",
    "\n",
    "# トレーニングデータ\n",
    "plt.figure(2)\n",
    "for i in range(len(df_train)):\n",
    "    if df_train.cls[i]==1:\n",
    "        plt.scatter(df_train.cm[i],df_train.kg[i], color='r',marker='o', s=30)\n",
    "    else:\n",
    "        plt.scatter(df_train.cm[i],df_train.kg[i], color='b',marker='x', s=30)\n",
    "plt.xlim(-2.5, 2.5)\n",
    "plt.ylim(-2.5, 2.5)\n",
    "plt.grid(True)\n",
    "        \n",
    "# テストデータ\n",
    "plt.figure(3)\n",
    "for i in range(len(df_test)):\n",
    "    if df_test.cls[i]==1:\n",
    "        plt.scatter(df_test.cm[i],df_test.kg[i], color='r',marker='o', s=30)\n",
    "    else:\n",
    "        plt.scatter(df_test.cm[i],df_test.kg[i], color='b',marker='x', s=30)\n",
    "plt.xlim(-2.5, 2.5)\n",
    "plt.ylim(-2.5, 2.5)\n",
    "plt.grid(True)\n",
    "\n",
    "plt.show()"
   ]
  },
  {
   "cell_type": "code",
   "execution_count": 2,
   "metadata": {},
   "outputs": [
    {
     "name": "stdout",
     "output_type": "stream",
     "text": [
      "正答率(train):1.000\n"
     ]
    },
    {
     "data": {
      "image/png": "[encoded data removed]",
      "text/plain": [
       "<Figure size 432x288 with 1 Axes>"
      ]
     },
     "metadata": {
      "needs_background": "light"
     },
     "output_type": "display_data"
    }
   ],
   "source": [
    "# 決定木\n",
    "\n",
    "# 決定木に入力できるようにトレーニングデータとテストデータを変換\n",
    "X_train = df_train[['cm','kg']].values\n",
    "y_train = df_train[['cls']].values\n",
    "y_train = y_train.reshape(len(y_train),) # ベクトルにする\n",
    "y_train = np.array(y_train, dtype=np.int64)\n",
    "\n",
    "X_test = df_test[['cm','kg']].values\n",
    "y_test = df_test[['cls']].values\n",
    "y_test = y_test.reshape(len(y_test),) # ベクトルにする\n",
    "y_test = np.array(y_test, dtype=np.int64)\n",
    "\n",
    "\n",
    "# 学習\n",
    "from sklearn.tree import DecisionTreeClassifier\n",
    "\n",
    "# モデルを作成\n",
    "model = DecisionTreeClassifier()\n",
    "model = model.fit(X_train, y_train)\n",
    "\n",
    "# 表示\n",
    "predicted = model.predict(X_train)\n",
    "\n",
    "# 領域を表示\n",
    "from mlxtend.plotting import plot_decision_regions\n",
    "\n",
    "plot_decision_regions(X_train, y_train, model)\n",
    "\n",
    "# 正答率\n",
    "print('正答率(train):{:.3f}'.format(model.score(X_train,y_train)))"
   ]
  },
  {
   "cell_type": "code",
   "execution_count": 3,
   "metadata": {
    "scrolled": true
   },
   "outputs": [
    {
     "name": "stdout",
     "output_type": "stream",
     "text": [
      "正答率(train):0.725\n"
     ]
    },
    {
     "data": {
      "image/png": "[encoded data removed]",
      "text/plain": [
       "<Figure size 432x288 with 1 Axes>"
      ]
     },
     "metadata": {
      "needs_background": "light"
     },
     "output_type": "display_data"
    }
   ],
   "source": [
    "# 決定木\n",
    "\n",
    "# 表示\n",
    "predicted = model.predict(X_test)\n",
    "\n",
    "# 領域を表示\n",
    "from mlxtend.plotting import plot_decision_regions\n",
    "plot_decision_regions(X_test, y_test, model)\n",
    "\n",
    "# 正答率\n",
    "print('正答率(train):{:.3f}'.format(model.score(X_test,y_test)))"
   ]
  },
  {
   "cell_type": "markdown",
   "metadata": {},
   "source": [
    "## バギングの実装"
   ]
  },
  {
   "cell_type": "code",
   "execution_count": 4,
   "metadata": {},
   "outputs": [],
   "source": [
    "# 魚データ\n",
    "# 特徴ベクトル：2次元（体長, 体重）\n",
    "# ラベル数：2（サケ(A)とスズキ(B)）\n",
    "\n",
    "# 確率密度関数で生成\n",
    "# 分散共分散行列で楕円を指定\n",
    "# ただし，データのオーバーラップを生じさせて，難しくする．\n",
    "# トレーニングデータとテストデータを作成する．\n",
    "\n",
    "import numpy as np\n",
    "import pandas as pd\n",
    "\n",
    "# 乱数の種を初期化\n",
    "np.random.seed(0)\n",
    "\n",
    "# データ数\n",
    "numA = 200 # Aをサケ\n",
    "numB = 200 # Bをスズキ\n",
    "numAll = numA + numB\n",
    "\n",
    "# 平均\n",
    "muA = [-2,2]\n",
    "muB = [2,-2]\n",
    "\n",
    "# 共分散\n",
    "cov = [[30,15],[15,30]]\n",
    "\n",
    "# 入力信号を生成\n",
    "xA, yA = np.random.multivariate_normal(muA, cov, numA).T\n",
    "xB, yB = np.random.multivariate_normal(muB, cov, numB).T\n",
    "\n",
    "# 教師信号を生成\n",
    "clsA = [1 for i in range(numA)]\n",
    "clsB = [0 for i in range(numB)]\n",
    "\n",
    "# DataFrameに変換\n",
    "dfA = pd.DataFrame(np.array([xA,yA,clsA]).T, columns=['cm','kg','cls'])\n",
    "dfB = pd.DataFrame(np.array([xB,yB,clsB]).T, columns=['cm','kg','cls'])\n",
    "dfAll = pd.concat([dfA,dfB],axis=0)\n",
    "dfAll = dfAll.reset_index(drop=True)\n",
    "\n",
    "import sklearn.preprocessing as skl\n",
    "dfAll.cm = skl.scale(dfAll.cm) #正規化\n",
    "dfAll.kg = skl.scale(dfAll.kg) #正規化\n",
    "\n",
    "from sklearn.model_selection import train_test_split\n",
    "X = dfAll[['cm','kg']].values\n",
    "y = dfAll[['cls']].values\n",
    "y = y.reshape(len(y),) # ベクトルにする\n",
    "y = np.array(y, dtype=np.int64)\n",
    "\n",
    "\n",
    "X_train, X_test, y_train, y_test = train_test_split(X,y,random_state=0)"
   ]
  },
  {
   "cell_type": "code",
   "execution_count": 5,
   "metadata": {},
   "outputs": [
    {
     "data": {
      "text/html": [
       "<div>\n",
       "<style scoped>\n",
       "    .dataframe tbody tr th:only-of-type {\n",
       "        vertical-align: middle;\n",
       "    }\n",
       "\n",
       "    .dataframe tbody tr th {\n",
       "        vertical-align: top;\n",
       "    }\n",
       "\n",
       "    .dataframe thead th {\n",
       "        text-align: right;\n",
       "    }\n",
       "</style>\n",
       "<table border=\"1\" class=\"dataframe\">\n",
       "  <thead>\n",
       "    <tr style=\"text-align: right;\">\n",
       "      <th></th>\n",
       "      <th>test_score</th>\n",
       "      <th>train_score</th>\n",
       "    </tr>\n",
       "  </thead>\n",
       "  <tbody>\n",
       "    <tr>\n",
       "      <td>Bagging</td>\n",
       "      <td>0.71</td>\n",
       "      <td>1.0</td>\n",
       "    </tr>\n",
       "    <tr>\n",
       "      <td>Tree</td>\n",
       "      <td>0.67</td>\n",
       "      <td>1.0</td>\n",
       "    </tr>\n",
       "  </tbody>\n",
       "</table>\n",
       "</div>"
      ],
      "text/plain": [
       "         test_score  train_score\n",
       "Bagging        0.71          1.0\n",
       "Tree           0.67          1.0"
      ]
     },
     "execution_count": 5,
     "metadata": {},
     "output_type": "execute_result"
    }
   ],
   "source": [
    "from sklearn.tree import DecisionTreeClassifier\n",
    "from sklearn.ensemble import BaggingClassifier\n",
    "\n",
    "models = {\n",
    "    'Tree': DecisionTreeClassifier(random_state=0),\n",
    "    'Bagging': BaggingClassifier(DecisionTreeClassifier(random_state=0), n_estimators=100, random_state=0),\n",
    "}\n",
    "\n",
    "scores = {}\n",
    "for model_name, model in models.items():\n",
    "    model.fit(X_train, y_train)\n",
    "    scores[(model_name, 'train_score')] = model.score(X_train, y_train)\n",
    "    scores[(model_name, 'test_score')] = model.score(X_test, y_test)\n",
    "\n",
    "pd.Series(scores).unstack()"
   ]
  },
  {
   "cell_type": "code",
   "execution_count": 6,
   "metadata": {},
   "outputs": [
    {
     "data": {
      "text/plain": [
       "<matplotlib.axes._subplots.AxesSubplot at 0x7f8cf1afcd90>"
      ]
     },
     "execution_count": 6,
     "metadata": {},
     "output_type": "execute_result"
    },
    {
     "data": {
      "image/png": "[encoded data removed]",
      "text/plain": [
       "<Figure size 432x288 with 1 Axes>"
      ]
     },
     "metadata": {
      "needs_background": "light"
     },
     "output_type": "display_data"
    }
   ],
   "source": [
    "# 領域を表示\n",
    "from mlxtend.plotting import plot_decision_regions\n",
    "predicted = model.predict(X_test)\n",
    "plot_decision_regions(X_test, y_test, model)"
   ]
  },
  {
   "cell_type": "markdown",
   "metadata": {},
   "source": [
    "結果を比較すると，決定木よりもバギングの方が正答率が良くなっている．また，境界線が決定木よりもバギングの方がなめらかになっており，汎化性能が向上したことがわかる．"
   ]
  }
 ],
 "metadata": {
  "kernelspec": {
   "display_name": "Python 3",
   "language": "python",
   "name": "python3"
  },
  "language_info": {
   "codemirror_mode": {
    "name": "ipython",
    "version": 3
   },
   "file_extension": ".py",
   "mimetype": "text/x-python",
   "name": "python",
   "nbconvert_exporter": "python",
   "pygments_lexer": "ipython3",
   "version": "3.7.4"
  }
 },
 "nbformat": 4,
 "nbformat_minor": 2
}
