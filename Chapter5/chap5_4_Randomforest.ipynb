{
 "cells": [
  {
   "cell_type": "markdown",
   "metadata": {},
   "source": [
    "# 第5章 （4）ランダムフォレスト"
   ]
  },
  {
   "cell_type": "markdown",
   "metadata": {},
   "source": [
    "バギングは，決定木のように学習データに対してバイアスが小さく，バリアンスが大きな識別器に適した手法であるが，ブートストラップサンプリングによるため生成された決定木の間の相関が高くなる．\n",
    "\n",
    "一般に，分散$\\sigma^2$を持つ$M$個の独立な確率変数$X_i(i=1,\\cdots,M)$の平均$\\overline{X}=(1/M)\\sum_{i=1}^{M}X_i$の分散は，${\\rm Var}\\{\\overline{X}\\}=\\sigma^2/M$となるが，任意の2つの確率変数の間に正の相関$\\rho$がある場合には，平均の分散は，\n",
    "$$\n",
    "{\\rm Var}\\{\\overline{X}\\}=\\frac{1-\\rho}{M}\\sigma^2+\\rho \\sigma^2\n",
    "$$\n",
    "となる．\n",
    "\n",
    "ブートストラップサンプル数の$M$を増やせば上の式の第１項は減少するが，第２項は減らない．ランダムフォレストは$\\rho$を減らす仕組みを入れてバギングを強化した手法である．\n",
    "\n",
    "<img src=\"work/4.png\" width=\"600\">"
   ]
  },
  {
   "cell_type": "code",
   "execution_count": 2,
   "metadata": {},
   "outputs": [],
   "source": [
    "# 魚データ\n",
    "# 特徴ベクトル：2次元（体長, 体重）\n",
    "# ラベル数：2（サケ(A)とスズキ(B)）\n",
    "\n",
    "# 確率密度関数で生成\n",
    "# 分散共分散行列で楕円を指定\n",
    "# ただし，データのオーバーラップを生じさせて，難しくする．\n",
    "# トレーニングデータとテストデータを作成する．\n",
    "\n",
    "import numpy as np\n",
    "import pandas as pd\n",
    "\n",
    "# 乱数の種を初期化\n",
    "np.random.seed(0)\n",
    "\n",
    "# データ数\n",
    "numA = 200 # Aをサケ\n",
    "numB = 200 # Bをスズキ\n",
    "numAll = numA + numB\n",
    "\n",
    "# 平均\n",
    "muA = [-2,2]\n",
    "muB = [2,-2]\n",
    "\n",
    "# 共分散\n",
    "cov = [[30,15],[15,30]]\n",
    "\n",
    "# 入力信号を生成\n",
    "xA, yA = np.random.multivariate_normal(muA, cov, numA).T\n",
    "xB, yB = np.random.multivariate_normal(muB, cov, numB).T\n",
    "\n",
    "# 教師信号を生成\n",
    "clsA = [1 for i in range(numA)]\n",
    "clsB = [0 for i in range(numB)]\n",
    "\n",
    "# DataFrameに変換\n",
    "dfA = pd.DataFrame(np.array([xA,yA,clsA]).T, columns=['cm','kg','cls'])\n",
    "dfB = pd.DataFrame(np.array([xB,yB,clsB]).T, columns=['cm','kg','cls'])\n",
    "dfAll = pd.concat([dfA,dfB],axis=0)\n",
    "dfAll = dfAll.reset_index(drop=True)\n",
    "\n",
    "import sklearn.preprocessing as skl\n",
    "dfAll.cm = skl.scale(dfAll.cm) #正規化\n",
    "dfAll.kg = skl.scale(dfAll.kg) #正規化\n",
    "\n",
    "from sklearn.model_selection import train_test_split\n",
    "X = dfAll[['cm','kg']].values\n",
    "y = dfAll[['cls']].values\n",
    "y = y.reshape(len(y),) # ベクトルにする\n",
    "y = np.array(y, dtype=np.int64)\n",
    "\n",
    "\n",
    "X_train, X_test, y_train, y_test = train_test_split(X,y,random_state=0)"
   ]
  },
  {
   "cell_type": "code",
   "execution_count": 3,
   "metadata": {},
   "outputs": [
    {
     "data": {
      "text/html": [
       "<div>\n",
       "<style scoped>\n",
       "    .dataframe tbody tr th:only-of-type {\n",
       "        vertical-align: middle;\n",
       "    }\n",
       "\n",
       "    .dataframe tbody tr th {\n",
       "        vertical-align: top;\n",
       "    }\n",
       "\n",
       "    .dataframe thead th {\n",
       "        text-align: right;\n",
       "    }\n",
       "</style>\n",
       "<table border=\"1\" class=\"dataframe\">\n",
       "  <thead>\n",
       "    <tr style=\"text-align: right;\">\n",
       "      <th></th>\n",
       "      <th>test_score</th>\n",
       "      <th>train_score</th>\n",
       "    </tr>\n",
       "  </thead>\n",
       "  <tbody>\n",
       "    <tr>\n",
       "      <td>AdaBoost</td>\n",
       "      <td>0.69</td>\n",
       "      <td>1.0</td>\n",
       "    </tr>\n",
       "    <tr>\n",
       "      <td>Bagging</td>\n",
       "      <td>0.71</td>\n",
       "      <td>1.0</td>\n",
       "    </tr>\n",
       "    <tr>\n",
       "      <td>Forest</td>\n",
       "      <td>0.71</td>\n",
       "      <td>1.0</td>\n",
       "    </tr>\n",
       "    <tr>\n",
       "      <td>Tree</td>\n",
       "      <td>0.67</td>\n",
       "      <td>1.0</td>\n",
       "    </tr>\n",
       "  </tbody>\n",
       "</table>\n",
       "</div>"
      ],
      "text/plain": [
       "          test_score  train_score\n",
       "AdaBoost        0.69          1.0\n",
       "Bagging         0.71          1.0\n",
       "Forest          0.71          1.0\n",
       "Tree            0.67          1.0"
      ]
     },
     "execution_count": 3,
     "metadata": {},
     "output_type": "execute_result"
    }
   ],
   "source": [
    "from sklearn.tree import DecisionTreeClassifier\n",
    "from sklearn.ensemble import BaggingClassifier\n",
    "from sklearn.ensemble import AdaBoostClassifier\n",
    "from sklearn.ensemble import RandomForestClassifier\n",
    "\n",
    "models = {\n",
    "    'Tree': DecisionTreeClassifier(random_state=0),\n",
    "    'Bagging': BaggingClassifier(DecisionTreeClassifier(random_state=0), n_estimators=100, random_state=0),\n",
    "    'AdaBoost': AdaBoostClassifier(DecisionTreeClassifier(random_state=0), n_estimators=100, random_state=0),\n",
    "    'Forest': RandomForestClassifier(criterion='entropy',n_estimators=100)\n",
    "}\n",
    "\n",
    "scores = {}\n",
    "for model_name, model in models.items():\n",
    "    model.fit(X_train, y_train)\n",
    "    scores[(model_name, 'train_score')] = model.score(X_train, y_train)\n",
    "    scores[(model_name, 'test_score')] = model.score(X_test, y_test)\n",
    "\n",
    "pd.Series(scores).unstack()"
   ]
  },
  {
   "cell_type": "code",
   "execution_count": 5,
   "metadata": {},
   "outputs": [
    {
     "data": {
      "text/plain": [
       "<matplotlib.axes._subplots.AxesSubplot at 0x7fdf582d29d0>"
      ]
     },
     "execution_count": 5,
     "metadata": {},
     "output_type": "execute_result"
    },
    {
     "data": {
      "image/png": "[encoded data removed]",
      "text/plain": [
       "<Figure size 432x288 with 1 Axes>"
      ]
     },
     "metadata": {
      "needs_background": "light"
     },
     "output_type": "display_data"
    }
   ],
   "source": [
    "# 領域を表示\n",
    "from mlxtend.plotting import plot_decision_regions\n",
    "predicted = model.predict(X_test)\n",
    "plot_decision_regions(X_test, y_test, model)"
   ]
  },
  {
   "cell_type": "markdown",
   "metadata": {},
   "source": [
    "決定木，バギング，アダブースト，ランダムフォレストを比較した．結果的には，ランダムフォレストとバギングが性能が高く，また，ランダムフォレストは木の数を増やしても過学習することがなく，またパラメータ設定が簡単なため，一番オススメである．"
   ]
  }
 ],
 "metadata": {
  "kernelspec": {
   "display_name": "Python 3",
   "language": "python",
   "name": "python3"
  },
  "language_info": {
   "codemirror_mode": {
    "name": "ipython",
    "version": 3
   },
   "file_extension": ".py",
   "mimetype": "text/x-python",
   "name": "python",
   "nbconvert_exporter": "python",
   "pygments_lexer": "ipython3",
   "version": "3.7.4"
  }
 },
 "nbformat": 4,
 "nbformat_minor": 2
}
