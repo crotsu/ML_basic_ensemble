{
 "cells": [
  {
   "cell_type": "markdown",
   "metadata": {},
   "source": [
    "# 第5章 （2, 3）ブースティング (AdaBoost)"
   ]
  },
  {
   "cell_type": "markdown",
   "metadata": {},
   "source": [
    "バギングでは複数の弱学習器を独立に学習したが，ブースティングでは複数の弱学習器を順番に学習する．\n",
    "<img src=\"work/2.png\" width=\"600\">\n",
    "\n",
    "集団学習では，各弱学習器であるため，すべてのトレーニングデータを正しく学習できない．そこで，うまく学習できない難しいデータに対して強い重み付けを行い，逆に正しく学習できる簡単なデータには弱い重み付けを行って，べつの弱学習器で学習を行う．これを複数の弱学習器で行えば難しい学習データも正しく学習できるのではないかと期待するものである．このように重み付けするブースティングは様々提案されているが，もっとも標準的な手法はアダブーストである．アダブーストとは，アダプティブ・ブースティングの略語で適応的なブースティングという意味である．アダブーストのイメージ図を以下に示す．\n",
    "\n",
    "<img src=\"work/3.png\" width=\"600\">\n"
   ]
  },
  {
   "cell_type": "markdown",
   "metadata": {},
   "source": [
    "上の図の1では，まだ学習前なので，すべてのデータは同じ重み付けである．最初の弱学習器によって，1の上側と下側で分類を行ったとする．このとき，四角が2つ間違っている．そのため，この2個を強く重み付けし，残りの四角3つと丸5つは弱く重み付けする．2では，この重み付けされたデータを学習する．今度は，左側の四角2は正解したが，上側の四角3つが間違えたの強く重み付けする．そして，正しく分類された左側の四角2個と丸5個は弱く重み付けする．これを繰り返していく．\n",
    "\n",
    "アダブーストは間違えた学習データ，重点的に学習を行うため効果が高いが，バギングと異なり並列計算はできない．\n",
    "\n",
    "重みの更新は，\n",
    "\n",
    "$$\n",
    "w_i \\leftarrow w_i \\exp (-\\theta_j \\varphi_j(\\mathbf{x}_i)y_i)\n",
    "$$"
   ]
  },
  {
   "cell_type": "markdown",
   "metadata": {},
   "source": [
    "## アダブーストの実装"
   ]
  },
  {
   "cell_type": "code",
   "execution_count": 3,
   "metadata": {},
   "outputs": [],
   "source": [
    "# 魚データ\n",
    "# 特徴ベクトル：2次元（体長, 体重）\n",
    "# ラベル数：2（サケ(A)とスズキ(B)）\n",
    "\n",
    "# 確率密度関数で生成\n",
    "# 分散共分散行列で楕円を指定\n",
    "# ただし，データのオーバーラップを生じさせて，難しくする．\n",
    "# トレーニングデータとテストデータを作成する．\n",
    "\n",
    "import numpy as np\n",
    "import pandas as pd\n",
    "\n",
    "# 乱数の種を初期化\n",
    "np.random.seed(0)\n",
    "\n",
    "# データ数\n",
    "numA = 200 # Aをサケ\n",
    "numB = 200 # Bをスズキ\n",
    "numAll = numA + numB\n",
    "\n",
    "# 平均\n",
    "muA = [-2,2]\n",
    "muB = [2,-2]\n",
    "\n",
    "# 共分散\n",
    "cov = [[30,15],[15,30]]\n",
    "\n",
    "# 入力信号を生成\n",
    "xA, yA = np.random.multivariate_normal(muA, cov, numA).T\n",
    "xB, yB = np.random.multivariate_normal(muB, cov, numB).T\n",
    "\n",
    "# 教師信号を生成\n",
    "clsA = [1 for i in range(numA)]\n",
    "clsB = [0 for i in range(numB)]\n",
    "\n",
    "# DataFrameに変換\n",
    "dfA = pd.DataFrame(np.array([xA,yA,clsA]).T, columns=['cm','kg','cls'])\n",
    "dfB = pd.DataFrame(np.array([xB,yB,clsB]).T, columns=['cm','kg','cls'])\n",
    "dfAll = pd.concat([dfA,dfB],axis=0)\n",
    "dfAll = dfAll.reset_index(drop=True)\n",
    "\n",
    "import sklearn.preprocessing as skl\n",
    "dfAll.cm = skl.scale(dfAll.cm) #正規化\n",
    "dfAll.kg = skl.scale(dfAll.kg) #正規化\n",
    "\n",
    "from sklearn.model_selection import train_test_split\n",
    "X = dfAll[['cm','kg']].values\n",
    "y = dfAll[['cls']].values\n",
    "y = y.reshape(len(y),) # ベクトルにする\n",
    "y = np.array(y, dtype=np.int64)\n",
    "\n",
    "\n",
    "X_train, X_test, y_train, y_test = train_test_split(X,y,random_state=0)"
   ]
  },
  {
   "cell_type": "code",
   "execution_count": 13,
   "metadata": {},
   "outputs": [
    {
     "data": {
      "text/html": [
       "<div>\n",
       "<style scoped>\n",
       "    .dataframe tbody tr th:only-of-type {\n",
       "        vertical-align: middle;\n",
       "    }\n",
       "\n",
       "    .dataframe tbody tr th {\n",
       "        vertical-align: top;\n",
       "    }\n",
       "\n",
       "    .dataframe thead th {\n",
       "        text-align: right;\n",
       "    }\n",
       "</style>\n",
       "<table border=\"1\" class=\"dataframe\">\n",
       "  <thead>\n",
       "    <tr style=\"text-align: right;\">\n",
       "      <th></th>\n",
       "      <th>test_score</th>\n",
       "      <th>train_score</th>\n",
       "    </tr>\n",
       "  </thead>\n",
       "  <tbody>\n",
       "    <tr>\n",
       "      <td>AdaBoost</td>\n",
       "      <td>0.69</td>\n",
       "      <td>1.0</td>\n",
       "    </tr>\n",
       "    <tr>\n",
       "      <td>Bagging</td>\n",
       "      <td>0.71</td>\n",
       "      <td>1.0</td>\n",
       "    </tr>\n",
       "    <tr>\n",
       "      <td>Tree</td>\n",
       "      <td>0.67</td>\n",
       "      <td>1.0</td>\n",
       "    </tr>\n",
       "  </tbody>\n",
       "</table>\n",
       "</div>"
      ],
      "text/plain": [
       "          test_score  train_score\n",
       "AdaBoost        0.69          1.0\n",
       "Bagging         0.71          1.0\n",
       "Tree            0.67          1.0"
      ]
     },
     "execution_count": 13,
     "metadata": {},
     "output_type": "execute_result"
    }
   ],
   "source": [
    "from sklearn.tree import DecisionTreeClassifier\n",
    "from sklearn.ensemble import BaggingClassifier\n",
    "from sklearn.ensemble import AdaBoostClassifier\n",
    "\n",
    "models = {\n",
    "    'Tree': DecisionTreeClassifier(random_state=0),\n",
    "    'Bagging': BaggingClassifier(DecisionTreeClassifier(random_state=0), n_estimators=100, random_state=0),\n",
    "    'AdaBoost': AdaBoostClassifier(DecisionTreeClassifier(random_state=0), n_estimators=100, random_state=0),\n",
    "}\n",
    "\n",
    "scores = {}\n",
    "for model_name, model in models.items():\n",
    "    model.fit(X_train, y_train)\n",
    "    scores[(model_name, 'train_score')] = model.score(X_train, y_train)\n",
    "    scores[(model_name, 'test_score')] = model.score(X_test, y_test)\n",
    "\n",
    "pd.Series(scores).unstack()"
   ]
  },
  {
   "cell_type": "code",
   "execution_count": 14,
   "metadata": {},
   "outputs": [
    {
     "data": {
      "text/plain": [
       "<matplotlib.axes._subplots.AxesSubplot at 0x7fde11a4f650>"
      ]
     },
     "execution_count": 14,
     "metadata": {},
     "output_type": "execute_result"
    },
    {
     "data": {
      "image/png": "[encoded data removed]",
      "text/plain": [
       "<Figure size 432x288 with 1 Axes>"
      ]
     },
     "metadata": {
      "needs_background": "light"
     },
     "output_type": "display_data"
    }
   ],
   "source": [
    "# 領域を表示\n",
    "from mlxtend.plotting import plot_decision_regions\n",
    "predicted = model.predict(X_test)\n",
    "plot_decision_regions(X_test, y_test, model)"
   ]
  },
  {
   "cell_type": "markdown",
   "metadata": {},
   "source": [
    "この問題では，アダブーストよりもバギングの方が性能がよい．今回扱っている問題は特徴ベクトルが2次元であり簡単な問題である．問題がより複雑なとき，アダブーストの方が良くなることが多い．"
   ]
  }
 ],
 "metadata": {
  "kernelspec": {
   "display_name": "Python 3",
   "language": "python",
   "name": "python3"
  },
  "language_info": {
   "codemirror_mode": {
    "name": "ipython",
    "version": 3
   },
   "file_extension": ".py",
   "mimetype": "text/x-python",
   "name": "python",
   "nbconvert_exporter": "python",
   "pygments_lexer": "ipython3",
   "version": "3.7.4"
  }
 },
 "nbformat": 4,
 "nbformat_minor": 2
}
