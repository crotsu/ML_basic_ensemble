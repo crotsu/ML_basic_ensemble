{
 "cells": [
  {
   "cell_type": "markdown",
   "metadata": {},
   "source": [
    "# 第3章 （3）実際にデータを最小二乗法で予測する"
   ]
  },
  {
   "cell_type": "markdown",
   "metadata": {},
   "source": [
    "# まずはデータを生成する．\n",
    "## データはある数理モデルからノイズ（正規乱数）を受けて発生すると考える．"
   ]
  },
  {
   "cell_type": "markdown",
   "metadata": {},
   "source": [
    "### データ発生メカニズム\n",
    "\n",
    "\n",
    "$$\n",
    " f(x)=x^4 - 8x^3 + 18x^2 - 3x +1\n",
    "$$"
   ]
  },
  {
   "cell_type": "code",
   "execution_count": 32,
   "metadata": {},
   "outputs": [
    {
     "data": {
      "image/png": "[encoded data removed]",
      "text/plain": [
       "<Figure size 432x288 with 1 Axes>"
      ]
     },
     "metadata": {
      "needs_background": "light"
     },
     "output_type": "display_data"
    }
   ],
   "source": [
    "import numpy as np\n",
    "\n",
    "# 数理モデル\n",
    "def mathfunc(x):\n",
    "    y = x**4 - 8*x**3 + 18*x**2 - 3*x + 1\n",
    "    return y\n",
    "\n",
    "# 目的関数のグラフを表示する\n",
    "import matplotlib.pyplot as plt\n",
    "\n",
    "# データ生成\n",
    "# x\n",
    "xmin = -1.0\n",
    "xmax = 4.5\n",
    "num = 100 \n",
    "x = np.linspace(xmin, xmax, num)\n",
    "\n",
    "# y\n",
    "y = mathfunc(x)\n",
    "\n",
    "# グラフ表示\n",
    "plt.plot(x, y)\n",
    "plt.xlim(xmin, xmax)\n",
    "plt.grid(True)\n",
    "plt.show()"
   ]
  },
  {
   "cell_type": "markdown",
   "metadata": {},
   "source": [
    "# これまでのデータにはノイズがないので，ノイズを加えて表示する．"
   ]
  },
  {
   "cell_type": "code",
   "execution_count": 33,
   "metadata": {},
   "outputs": [
    {
     "data": {
      "image/png": "[encoded data removed]",
      "text/plain": [
       "<Figure size 432x288 with 1 Axes>"
      ]
     },
     "metadata": {
      "needs_background": "light"
     },
     "output_type": "display_data"
    }
   ],
   "source": [
    "import numpy as np\n",
    "import matplotlib.pyplot as plt\n",
    "\n",
    "# 目的関数\n",
    "def mathfunc(x):\n",
    "    y = x**4 - 8*x**3 + 18*x**2 - 3*x + 1\n",
    "    return y\n",
    "\n",
    "# 定義域（xの範囲: -1.0から4.5）\n",
    "# 生成するデータの個数は100個\n",
    "xmin = -1.0\n",
    "xmax = 4.5\n",
    "num = 100 \n",
    "\n",
    "# 乱数の種を設定\n",
    "np.random.seed(0)\n",
    "\n",
    "# ランダムにxを生成\n",
    "x = (xmax - xmin) * np.random.rand(num) + xmin\n",
    "\n",
    "# ｘからｙを生成する．\n",
    "y = mathfunc(x)\n",
    "\n",
    "# yにノイズ（正規乱数（平均0．0， 標準偏差1.5））を加える．\n",
    "y += np.random.normal(loc=0.0, scale=1.5, size=num)\n",
    "\n",
    "# グラフ表示\n",
    "plt.scatter(x, y) # 散布図\n",
    "plt.xlim(xmin, xmax)\n",
    "plt.grid(True)\n",
    "plt.show()"
   ]
  },
  {
   "cell_type": "markdown",
   "metadata": {},
   "source": [
    "# このデータを扱いやすいようにPandasに変換する"
   ]
  },
  {
   "cell_type": "code",
   "execution_count": 34,
   "metadata": {},
   "outputs": [
    {
     "data": {
      "text/plain": [
       "array([ 2.01847427,  2.93354152,  2.31519857,  1.99685751,  1.3301014 ,\n",
       "        2.55241762,  1.40672966,  3.9047515 ,  4.30014518,  1.10892835,\n",
       "        3.35448771,  1.90892206,  2.12424509,  4.09078151, -0.60930168,\n",
       "       -0.52078885, -0.88879881,  3.57940915,  3.27986213,  3.78506682,\n",
       "        4.38240088,  3.3953721 ,  1.53813649,  3.29291047, -0.34949066,\n",
       "        2.51956562, -0.21155692,  4.19567904,  1.87016577,  1.28064067,\n",
       "        0.45505587,  3.25828529,  1.50882683,  2.12638672, -0.8966561 ,\n",
       "        2.39699523,  2.36652647,  2.39313698,  4.19061443,  2.75001165,\n",
       "        0.97729345,  1.40367575,  2.83697158, -0.66875991,  2.66721693,\n",
       "        2.68850828,  0.15710409, -0.29090536,  0.73485593,  1.00040924,\n",
       "        2.13608224,  1.41230832,  4.43605611, -0.43875354,  0.14882216,\n",
       "       -0.11279765,  2.59209579,  0.39310381,  1.56470925,  0.34434076,\n",
       "       -0.12566729, -0.39293672,  2.60981274, -0.23999377,  0.08120299,\n",
       "        1.02798844,  3.51546276, -0.46594298,  3.60869699, -0.47145876,\n",
       "        4.37052706,  1.57758161,  4.37218599,  2.32665036,  3.06594969,\n",
       "       -0.78446714,  0.55543829, -0.33891891,  0.62877109, -0.34699755,\n",
       "        0.74890749,  1.27844647, -0.64718877,  2.80859666,  2.116308  ,\n",
       "        0.4596422 ,  1.87786429, -0.48332719,  2.16770573,  4.11112909,\n",
       "        0.75212924,  2.67075709, -0.27511176,  2.93979962,  0.59173351,\n",
       "        0.00755249,  2.22582114, -0.8894085 ,  3.55917016, -0.97417488])"
      ]
     },
     "execution_count": 34,
     "metadata": {},
     "output_type": "execute_result"
    }
   ],
   "source": [
    "ｘ"
   ]
  },
  {
   "cell_type": "code",
   "execution_count": 35,
   "metadata": {},
   "outputs": [
    {
     "data": {
      "text/plain": [
       "array([ 1.73425989e+01,  2.05494606e+01,  2.06882561e+01,  1.66798628e+01,\n",
       "        1.53916897e+01,  2.28680563e+01,  1.58138822e+01,  1.96483526e+01,\n",
       "        2.51417562e+01,  1.19927171e+01,  1.75257442e+01,  2.03285756e+01,\n",
       "        1.98412551e+01,  2.37995144e+01,  1.19923726e+01,  9.70775676e+00,\n",
       "        2.41424763e+01,  2.08313481e+01,  1.84445946e+01,  1.95630868e+01,\n",
       "        3.18968179e+01,  1.60638976e+01,  1.35505521e+01,  1.96832475e+01,\n",
       "        2.84379762e+00,  2.29664414e+01,  1.89760745e+00,  2.31732775e+01,\n",
       "        2.11343845e+01,  1.47868918e+01,  5.45256778e+00,  1.96575837e+01,\n",
       "        1.38629912e+01,  2.24014446e+01,  2.41734612e+01,  2.12678689e+01,\n",
       "        2.14655081e+01,  1.98297174e+01,  2.51098424e+01,  2.10746893e+01,\n",
       "        9.26950028e+00,  1.23621151e+01,  1.99198169e+01,  1.56389671e+01,\n",
       "        1.88213461e+01,  1.95985451e+01,  2.89816330e-01,  6.37398507e+00,\n",
       "        6.64107148e+00,  9.61651288e+00,  1.84147698e+01,  1.49174148e+01,\n",
       "        2.97793051e+01,  6.54184540e+00, -2.74493769e-02,  2.59370564e+00,\n",
       "        2.08448052e+01,  1.82769851e+00,  1.63165900e+01,  1.49085058e-01,\n",
       "       -5.59497732e-01,  6.12627684e+00,  2.02061329e+01,  3.82317541e+00,\n",
       "        4.44555876e+00,  1.07804818e+01,  1.67028135e+01,  8.83759903e+00,\n",
       "        1.62394453e+01,  6.61066705e+00,  2.86115215e+01,  1.84191382e+01,\n",
       "        2.76463262e+01,  1.87647762e+01,  1.86556384e+01,  1.76759015e+01,\n",
       "        5.30115535e+00,  2.78908438e+00,  2.67645056e+00,  3.90034012e+00,\n",
       "        5.05604660e+00,  1.54337589e+01,  1.42491123e+01,  1.96788306e+01,\n",
       "        1.76624044e+01,  3.95825806e+00,  1.67997182e+01,  5.29555128e+00,\n",
       "        2.14526131e+01,  2.31535180e+01,  7.22365983e+00,  2.03348101e+01,\n",
       "        4.64524417e+00,  1.82032032e+01,  2.44115604e+00,  2.00075758e+00,\n",
       "        1.86206206e+01,  2.31270262e+01,  1.74362999e+01,  2.93277425e+01])"
      ]
     },
     "execution_count": 35,
     "metadata": {},
     "output_type": "execute_result"
    }
   ],
   "source": [
    "y"
   ]
  },
  {
   "cell_type": "code",
   "execution_count": 36,
   "metadata": {},
   "outputs": [],
   "source": [
    "array = np.array([x,y])"
   ]
  },
  {
   "cell_type": "code",
   "execution_count": 37,
   "metadata": {},
   "outputs": [
    {
     "data": {
      "text/plain": [
       "2.018474271600286"
      ]
     },
     "execution_count": 37,
     "metadata": {},
     "output_type": "execute_result"
    }
   ],
   "source": [
    "array[0,0] # xの0番目のデータ"
   ]
  },
  {
   "cell_type": "code",
   "execution_count": 38,
   "metadata": {},
   "outputs": [
    {
     "data": {
      "text/plain": [
       "17.342598921044257"
      ]
     },
     "execution_count": 38,
     "metadata": {},
     "output_type": "execute_result"
    }
   ],
   "source": [
    "array[1,0] # yの0番目のデータ"
   ]
  },
  {
   "cell_type": "code",
   "execution_count": 39,
   "metadata": {},
   "outputs": [],
   "source": [
    "# Pandasのデータフレーム形式に変換する\n",
    "\n",
    "import pandas as pd\n",
    "\n",
    "df = pd.DataFrame(array.T, columns=['x','y'])"
   ]
  },
  {
   "cell_type": "code",
   "execution_count": 40,
   "metadata": {},
   "outputs": [
    {
     "data": {
      "text/html": [
       "<div>\n",
       "<style scoped>\n",
       "    .dataframe tbody tr th:only-of-type {\n",
       "        vertical-align: middle;\n",
       "    }\n",
       "\n",
       "    .dataframe tbody tr th {\n",
       "        vertical-align: top;\n",
       "    }\n",
       "\n",
       "    .dataframe thead th {\n",
       "        text-align: right;\n",
       "    }\n",
       "</style>\n",
       "<table border=\"1\" class=\"dataframe\">\n",
       "  <thead>\n",
       "    <tr style=\"text-align: right;\">\n",
       "      <th></th>\n",
       "      <th>x</th>\n",
       "      <th>y</th>\n",
       "    </tr>\n",
       "  </thead>\n",
       "  <tbody>\n",
       "    <tr>\n",
       "      <td>0</td>\n",
       "      <td>2.018474</td>\n",
       "      <td>17.342599</td>\n",
       "    </tr>\n",
       "    <tr>\n",
       "      <td>1</td>\n",
       "      <td>2.933542</td>\n",
       "      <td>20.549461</td>\n",
       "    </tr>\n",
       "    <tr>\n",
       "      <td>2</td>\n",
       "      <td>2.315199</td>\n",
       "      <td>20.688256</td>\n",
       "    </tr>\n",
       "    <tr>\n",
       "      <td>3</td>\n",
       "      <td>1.996858</td>\n",
       "      <td>16.679863</td>\n",
       "    </tr>\n",
       "    <tr>\n",
       "      <td>4</td>\n",
       "      <td>1.330101</td>\n",
       "      <td>15.391690</td>\n",
       "    </tr>\n",
       "    <tr>\n",
       "      <td>...</td>\n",
       "      <td>...</td>\n",
       "      <td>...</td>\n",
       "    </tr>\n",
       "    <tr>\n",
       "      <td>95</td>\n",
       "      <td>0.007552</td>\n",
       "      <td>2.000758</td>\n",
       "    </tr>\n",
       "    <tr>\n",
       "      <td>96</td>\n",
       "      <td>2.225821</td>\n",
       "      <td>18.620621</td>\n",
       "    </tr>\n",
       "    <tr>\n",
       "      <td>97</td>\n",
       "      <td>-0.889408</td>\n",
       "      <td>23.127026</td>\n",
       "    </tr>\n",
       "    <tr>\n",
       "      <td>98</td>\n",
       "      <td>3.559170</td>\n",
       "      <td>17.436300</td>\n",
       "    </tr>\n",
       "    <tr>\n",
       "      <td>99</td>\n",
       "      <td>-0.974175</td>\n",
       "      <td>29.327742</td>\n",
       "    </tr>\n",
       "  </tbody>\n",
       "</table>\n",
       "<p>100 rows × 2 columns</p>\n",
       "</div>"
      ],
      "text/plain": [
       "           x          y\n",
       "0   2.018474  17.342599\n",
       "1   2.933542  20.549461\n",
       "2   2.315199  20.688256\n",
       "3   1.996858  16.679863\n",
       "4   1.330101  15.391690\n",
       "..       ...        ...\n",
       "95  0.007552   2.000758\n",
       "96  2.225821  18.620621\n",
       "97 -0.889408  23.127026\n",
       "98  3.559170  17.436300\n",
       "99 -0.974175  29.327742\n",
       "\n",
       "[100 rows x 2 columns]"
      ]
     },
     "execution_count": 40,
     "metadata": {},
     "output_type": "execute_result"
    }
   ],
   "source": [
    "df"
   ]
  },
  {
   "cell_type": "code",
   "execution_count": 41,
   "metadata": {},
   "outputs": [
    {
     "data": {
      "text/plain": [
       "2.018474271600286"
      ]
     },
     "execution_count": 41,
     "metadata": {},
     "output_type": "execute_result"
    }
   ],
   "source": [
    "df.x[0] # xの0番目のデータ"
   ]
  },
  {
   "cell_type": "code",
   "execution_count": 42,
   "metadata": {},
   "outputs": [
    {
     "data": {
      "text/plain": [
       "17.342598921044257"
      ]
     },
     "execution_count": 42,
     "metadata": {},
     "output_type": "execute_result"
    }
   ],
   "source": [
    "df.y[0] # yの0番目のデータ"
   ]
  },
  {
   "cell_type": "code",
   "execution_count": 43,
   "metadata": {},
   "outputs": [],
   "source": [
    "# データをｘの小さい順にソートする\n",
    "df = df.sort_values('x')"
   ]
  },
  {
   "cell_type": "code",
   "execution_count": 44,
   "metadata": {},
   "outputs": [
    {
     "data": {
      "text/html": [
       "<div>\n",
       "<style scoped>\n",
       "    .dataframe tbody tr th:only-of-type {\n",
       "        vertical-align: middle;\n",
       "    }\n",
       "\n",
       "    .dataframe tbody tr th {\n",
       "        vertical-align: top;\n",
       "    }\n",
       "\n",
       "    .dataframe thead th {\n",
       "        text-align: right;\n",
       "    }\n",
       "</style>\n",
       "<table border=\"1\" class=\"dataframe\">\n",
       "  <thead>\n",
       "    <tr style=\"text-align: right;\">\n",
       "      <th></th>\n",
       "      <th>x</th>\n",
       "      <th>y</th>\n",
       "    </tr>\n",
       "  </thead>\n",
       "  <tbody>\n",
       "    <tr>\n",
       "      <td>99</td>\n",
       "      <td>-0.974175</td>\n",
       "      <td>29.327742</td>\n",
       "    </tr>\n",
       "    <tr>\n",
       "      <td>34</td>\n",
       "      <td>-0.896656</td>\n",
       "      <td>24.173461</td>\n",
       "    </tr>\n",
       "    <tr>\n",
       "      <td>97</td>\n",
       "      <td>-0.889408</td>\n",
       "      <td>23.127026</td>\n",
       "    </tr>\n",
       "    <tr>\n",
       "      <td>16</td>\n",
       "      <td>-0.888799</td>\n",
       "      <td>24.142476</td>\n",
       "    </tr>\n",
       "    <tr>\n",
       "      <td>75</td>\n",
       "      <td>-0.784467</td>\n",
       "      <td>17.675902</td>\n",
       "    </tr>\n",
       "    <tr>\n",
       "      <td>...</td>\n",
       "      <td>...</td>\n",
       "      <td>...</td>\n",
       "    </tr>\n",
       "    <tr>\n",
       "      <td>8</td>\n",
       "      <td>4.300145</td>\n",
       "      <td>25.141756</td>\n",
       "    </tr>\n",
       "    <tr>\n",
       "      <td>70</td>\n",
       "      <td>4.370527</td>\n",
       "      <td>28.611522</td>\n",
       "    </tr>\n",
       "    <tr>\n",
       "      <td>72</td>\n",
       "      <td>4.372186</td>\n",
       "      <td>27.646326</td>\n",
       "    </tr>\n",
       "    <tr>\n",
       "      <td>20</td>\n",
       "      <td>4.382401</td>\n",
       "      <td>31.896818</td>\n",
       "    </tr>\n",
       "    <tr>\n",
       "      <td>52</td>\n",
       "      <td>4.436056</td>\n",
       "      <td>29.779305</td>\n",
       "    </tr>\n",
       "  </tbody>\n",
       "</table>\n",
       "<p>100 rows × 2 columns</p>\n",
       "</div>"
      ],
      "text/plain": [
       "           x          y\n",
       "99 -0.974175  29.327742\n",
       "34 -0.896656  24.173461\n",
       "97 -0.889408  23.127026\n",
       "16 -0.888799  24.142476\n",
       "75 -0.784467  17.675902\n",
       "..       ...        ...\n",
       "8   4.300145  25.141756\n",
       "70  4.370527  28.611522\n",
       "72  4.372186  27.646326\n",
       "20  4.382401  31.896818\n",
       "52  4.436056  29.779305\n",
       "\n",
       "[100 rows x 2 columns]"
      ]
     },
     "execution_count": 44,
     "metadata": {},
     "output_type": "execute_result"
    }
   ],
   "source": [
    "df"
   ]
  },
  {
   "cell_type": "code",
   "execution_count": 45,
   "metadata": {},
   "outputs": [
    {
     "data": {
      "image/png": "[encoded data removed]",
      "text/plain": [
       "<Figure size 432x288 with 1 Axes>"
      ]
     },
     "metadata": {
      "needs_background": "light"
     },
     "output_type": "display_data"
    }
   ],
   "source": [
    "# グラフ表示\n",
    "plt.scatter(df.x, df.y) # 散布図\n",
    "plt.xlim(xmin, xmax)\n",
    "plt.grid(True)\n",
    "plt.show()"
   ]
  },
  {
   "cell_type": "markdown",
   "metadata": {},
   "source": [
    "# これでデータ生成が完了"
   ]
  },
  {
   "cell_type": "markdown",
   "metadata": {},
   "source": [
    "# ここから最小二乗法のパラメータを求める．（素朴な方法）\n",
    "# 次数=2"
   ]
  },
  {
   "cell_type": "code",
   "execution_count": 46,
   "metadata": {},
   "outputs": [],
   "source": [
    "# 連立1次方程式 Ax = bの行列Aを求める\n",
    "# 次数2のとき\n",
    "matrixA = np.zeros((2,2))\n",
    "b = np.zeros((2,1))"
   ]
  },
  {
   "cell_type": "code",
   "execution_count": 47,
   "metadata": {},
   "outputs": [],
   "source": [
    "matrixA[0,0] = sum(df.x * df.x)\n",
    "matrixA[0,1] = sum(df.x)\n",
    "matrixA[1,0] = sum(df.x)\n",
    "matrixA[1,1] = len(df.x)\n",
    "\n",
    "b[0,0] = sum(df.x*df.y)\n",
    "b[1,0] = sum(df.y)"
   ]
  },
  {
   "cell_type": "code",
   "execution_count": 48,
   "metadata": {},
   "outputs": [
    {
     "data": {
      "text/plain": [
       "array([[507.5485627 , 160.03661173],\n",
       "       [160.03661173, 100.        ]])"
      ]
     },
     "execution_count": 48,
     "metadata": {},
     "output_type": "execute_result"
    }
   ],
   "source": [
    "matrixA"
   ]
  },
  {
   "cell_type": "code",
   "execution_count": 49,
   "metadata": {},
   "outputs": [
    {
     "data": {
      "text/plain": [
       "array([[3246.34253425],\n",
       "       [1488.22870998]])"
      ]
     },
     "execution_count": 49,
     "metadata": {},
     "output_type": "execute_result"
    }
   ],
   "source": [
    "b"
   ]
  },
  {
   "cell_type": "code",
   "execution_count": 50,
   "metadata": {},
   "outputs": [
    {
     "data": {
      "text/plain": [
       "array([[3.43883763],\n",
       "       [9.37888787]])"
      ]
     },
     "execution_count": 50,
     "metadata": {},
     "output_type": "execute_result"
    }
   ],
   "source": [
    "# 行列Aの逆行列を求めて，ベクトルbに左から掛ける\n",
    "ans = np.dot(np.linalg.inv(matrixA),b)\n",
    "ans"
   ]
  },
  {
   "cell_type": "code",
   "execution_count": 51,
   "metadata": {},
   "outputs": [
    {
     "data": {
      "image/png": "[encoded data removed]",
      "text/plain": [
       "<Figure size 432x288 with 1 Axes>"
      ]
     },
     "metadata": {
      "needs_background": "light"
     },
     "output_type": "display_data"
    }
   ],
   "source": [
    "# 求めたパラメータをグラフに表示する\n",
    "\n",
    "# 求めた関数\n",
    "def solve_func(x):\n",
    "    y = ans[0] * x + ans[1]\n",
    "    return y\n",
    "\n",
    "# 定義域（xの範囲: -1.0から4.5）\n",
    "# 生成するデータの個数は100個\n",
    "xmin = -1.0\n",
    "xmax = 4.5\n",
    "num = 100 \n",
    "\n",
    "# xを生成\n",
    "# xminからxmaxまでをnum個で区切る\n",
    "x = np.linspace(xmin, xmax, num)\n",
    "\n",
    "# ｘからｙを生成する．\n",
    "y = solve_func(x)\n",
    "\n",
    "# グラフ表示\n",
    "plt.plot(x, y, color='red') # 求めたパラメータから直線を引く\n",
    "\n",
    "plt.scatter(df.x, df.y) # 散布図\n",
    "plt.xlim(xmin, xmax)\n",
    "plt.grid(True)\n",
    "plt.show()"
   ]
  },
  {
   "cell_type": "markdown",
   "metadata": {},
   "source": [
    "# ここから最小二乗法のパラメータを求める．（素朴な方法）\n",
    "# 次数=4"
   ]
  },
  {
   "cell_type": "code",
   "execution_count": 52,
   "metadata": {},
   "outputs": [
    {
     "data": {
      "text/plain": [
       "array([[0.72803602],\n",
       "       [1.02925265],\n",
       "       [9.53996969]])"
      ]
     },
     "execution_count": 52,
     "metadata": {},
     "output_type": "execute_result"
    }
   ],
   "source": [
    "# 連立1次方程式 Ax = bの行列Aを求める\n",
    "# 次数2のとき\n",
    "matrixA = np.zeros((3,3))\n",
    "b = np.zeros((3,1))\n",
    "\n",
    "matrixA[0,0] = sum(df.x * df.x *df.x*df.x)\n",
    "matrixA[0,1] = sum(df.x * df.x *df.x)\n",
    "matrixA[0,2] = sum(df.x * df.x)\n",
    "matrixA[1,0] = sum(df.x * df.x *df.x)\n",
    "matrixA[1,1] = sum(df.x * df.x)\n",
    "matrixA[1,2] = sum(df.x)\n",
    "matrixA[2,0] = sum(df.x * df.x)\n",
    "matrixA[2,1] = sum(df.x)\n",
    "matrixA[2,2] = len(df.x)\n",
    "\n",
    "b[0,0] = sum(df.x*df.x*df.y)\n",
    "b[1,0] = sum(df.x*df.y)\n",
    "b[2,0] = sum(df.y)\n",
    "\n",
    "ans = np.dot(np.linalg.inv(matrixA),b)\n",
    "ans"
   ]
  },
  {
   "cell_type": "code",
   "execution_count": 54,
   "metadata": {},
   "outputs": [
    {
     "data": {
      "image/png": "[encoded data removed]",
      "text/plain": [
       "<Figure size 432x288 with 1 Axes>"
      ]
     },
     "metadata": {
      "needs_background": "light"
     },
     "output_type": "display_data"
    }
   ],
   "source": [
    "# 求めたパラメータをグラフに表示する\n",
    "\n",
    "# 求めた関数\n",
    "def solve_func(x):\n",
    "    y = ans[0]*x*x + ans[1]*x + ans[2]\n",
    "    return y\n",
    "\n",
    "# 定義域（xの範囲: -1.0から4.5）\n",
    "# 生成するデータの個数は100個\n",
    "xmin = -1.0\n",
    "xmax = 4.5\n",
    "num = 100 \n",
    "\n",
    "# xを生成\n",
    "# xminからxmaxまでをnum個で区切る\n",
    "x = np.linspace(xmin, xmax, num)\n",
    "\n",
    "# ｘからｙを生成する．\n",
    "y = solve_func(x)\n",
    "\n",
    "# グラフ表示\n",
    "plt.plot(x, y, color='red') # 求めたパラメータから直線を引く\n",
    "\n",
    "plt.scatter(df.x, df.y) # 散布図\n",
    "plt.xlim(xmin, xmax)\n",
    "plt.grid(True)\n",
    "plt.show()"
   ]
  },
  {
   "cell_type": "markdown",
   "metadata": {},
   "source": [
    "# 機械学習ライブラリを使って，求める"
   ]
  },
  {
   "cell_type": "code",
   "execution_count": 56,
   "metadata": {},
   "outputs": [
    {
     "data": {
      "image/png": "[encoded data removed]",
      "text/plain": [
       "<Figure size 432x288 with 1 Axes>"
      ]
     },
     "metadata": {
      "needs_background": "light"
     },
     "output_type": "display_data"
    }
   ],
   "source": [
    "# numpyのライブラリを使ってパラメータを求める\n",
    "ans = np.polyfit(df.x, df.y, 4)\n",
    "\n",
    "# 求めたパラメータをグラフに表示する\n",
    "\n",
    "# 求めた関数\n",
    "def solve_func(x):\n",
    "    y = ans[0]*x*x*x*x + ans[1]*x*x*x + ans[2]*x*x + ans[3]*x + ans[4]\n",
    "    return y\n",
    "\n",
    "# 定義域（xの範囲: -1.0から4.5）\n",
    "# 生成するデータの個数は100個\n",
    "xmin = -1.0\n",
    "xmax = 4.5\n",
    "num = 100 \n",
    "\n",
    "# xを生成\n",
    "# xminからxmaxまでをnum個で区切る\n",
    "x = np.linspace(xmin, xmax, num)\n",
    "\n",
    "# ｘからｙを生成する．\n",
    "y = solve_func(x)\n",
    "\n",
    "# グラフ表示\n",
    "plt.plot(x, y,color='red') # 求めたパラメータから直線を引く\n",
    "\n",
    "plt.scatter(df.x, df.y) # 散布図\n",
    "plt.xlim(xmin, xmax)\n",
    "plt.grid(True)\n",
    "plt.show()"
   ]
  },
  {
   "cell_type": "code",
   "execution_count": 57,
   "metadata": {},
   "outputs": [
    {
     "data": {
      "text/plain": [
       "array([ 1.00698752, -8.02485901, 17.86535698, -2.59884428,  1.32927119])"
      ]
     },
     "execution_count": 57,
     "metadata": {},
     "output_type": "execute_result"
    }
   ],
   "source": [
    "# 最小二乗法（次数4）\n",
    "np.polyfit(df.x, df.y, 4)"
   ]
  },
  {
   "cell_type": "code",
   "execution_count": 58,
   "metadata": {},
   "outputs": [
    {
     "data": {
      "text/plain": [
       "poly1d([ 1.00698752, -8.02485901, 17.86535698, -2.59884428,  1.32927119])"
      ]
     },
     "execution_count": 58,
     "metadata": {},
     "output_type": "execute_result"
    }
   ],
   "source": [
    "# 求めたパラメータを持つ多項式を作成\n",
    "np.poly1d(np.polyfit(df.x, df.y, 4))"
   ]
  },
  {
   "cell_type": "code",
   "execution_count": 59,
   "metadata": {},
   "outputs": [
    {
     "data": {
      "text/plain": [
       "array([29.14149618, 24.45922454, 24.0491841 , 24.01490215, 18.6174858 ,\n",
       "       13.65899772, 12.84619774, 11.49926958,  8.73575806,  7.71982444,\n",
       "        7.41620947,  7.27804273,  6.62380144,  5.61971763,  4.77727337,\n",
       "        4.73206926,  4.58788762,  3.80193005,  3.56927378,  3.09623634,\n",
       "        2.75666309,  1.95417245,  1.86140117,  1.31065903,  1.231787  ,\n",
       "        1.3122312 ,  1.33142569,  2.23920135,  2.60496397,  3.13312461,\n",
       "        3.17482457,  4.11815621,  4.50772976,  4.92084088,  6.176156  ,\n",
       "        6.34903519,  6.38885553,  9.28075253,  9.58326738,  9.94392985,\n",
       "       10.99625719, 13.12824675, 13.15489024, 13.74732709, 14.59666657,\n",
       "       14.63101975, 14.69357844, 15.73367806, 16.03268485, 16.29654722,\n",
       "       16.42183474, 18.78142823, 18.83010112, 19.01918059, 19.49083259,\n",
       "       19.59230428, 19.98030447, 20.00669524, 20.01368634, 20.04464716,\n",
       "       20.13781959, 20.2782272 , 20.41834706, 20.42985652, 20.45887799,\n",
       "       20.46888729, 20.46972939, 20.42025917, 20.38343552, 20.32686161,\n",
       "       20.2975384 , 20.18652555, 20.17892256, 20.13955352, 19.98822376,\n",
       "       19.82541095, 19.74115783, 19.43551697, 19.4150042 , 18.99784627,\n",
       "       18.43308701, 18.38233061, 18.3533785 , 18.23679093, 18.18026151,\n",
       "       18.13478279, 18.17152085, 18.19962457, 18.25358222, 18.96496131,\n",
       "       19.90541783, 22.30671672, 22.64966067, 24.16008382, 24.26592861,\n",
       "       26.72501921, 28.69873244, 28.74852858, 29.05856856, 30.78586154])"
      ]
     },
     "execution_count": 59,
     "metadata": {},
     "output_type": "execute_result"
    }
   ],
   "source": [
    "# 求めた多項式f(x)にｘを与えて，yを計算する．\n",
    "np.poly1d(np.polyfit(df.x, df.y, 4))(df.x)"
   ]
  },
  {
   "cell_type": "code",
   "execution_count": 62,
   "metadata": {},
   "outputs": [
    {
     "data": {
      "image/png": "[encoded data removed]",
      "text/plain": [
       "<Figure size 432x288 with 1 Axes>"
      ]
     },
     "metadata": {
      "needs_background": "light"
     },
     "output_type": "display_data"
    }
   ],
   "source": [
    "# それを一度に書くと以下のようになる．\n",
    "plt.plot(df.x, np.poly1d(np.polyfit(df.x, df.y, 4))(df.x),color='red')\n",
    "\n",
    "plt.scatter(df.x, df.y) # 散布図\n",
    "plt.grid(True)"
   ]
  }
 ],
 "metadata": {
  "kernelspec": {
   "display_name": "Python 3",
   "language": "python",
   "name": "python3"
  },
  "language_info": {
   "codemirror_mode": {
    "name": "ipython",
    "version": 3
   },
   "file_extension": ".py",
   "mimetype": "text/x-python",
   "name": "python",
   "nbconvert_exporter": "python",
   "pygments_lexer": "ipython3",
   "version": "3.7.4"
  }
 },
 "nbformat": 4,
 "nbformat_minor": 2
}
