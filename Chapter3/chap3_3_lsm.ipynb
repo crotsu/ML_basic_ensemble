{
 "cells": [
  {
   "cell_type": "markdown",
   "metadata": {},
   "source": [
    "# 第3章 （3）実際にデータを最小二乗法で予測する"
   ]
  },
  {
   "cell_type": "markdown",
   "metadata": {},
   "source": [
    "# まずはデータを生成する．\n",
    "## データはある数理モデルからノイズ（正規乱数）を受けて発生すると考える．"
   ]
  },
  {
   "cell_type": "code",
   "execution_count": 3,
   "metadata": {},
   "outputs": [
    {
     "data": {
      "image/png": "[encoded data removed]",
      "text/plain": [
       "<Figure size 432x288 with 1 Axes>"
      ]
     },
     "metadata": {
      "needs_background": "light"
     },
     "output_type": "display_data"
    }
   ],
   "source": [
    "import numpy as np\n",
    "\n",
    "# 目的関数\n",
    "def mathfunc(x):\n",
    "    y = x**4 - 8*x**3 + 18*x**2 - 3*x - 11\n",
    "    return y\n",
    "\n",
    "# 目的関数のグラフを表示する\n",
    "import matplotlib.pyplot as plt\n",
    "\n",
    "# データ生成\n",
    "# x\n",
    "xmin = -1.0\n",
    "xmax = 4.5\n",
    "num = 100 \n",
    "x = np.linspace(xmin, xmax, num)\n",
    "\n",
    "# y\n",
    "y = mathfunc(x)\n",
    "\n",
    "# グラフ表示\n",
    "plt.plot(x, y)\n",
    "plt.xlim(xmin, xmax)\n",
    "plt.grid(True)\n",
    "plt.show()"
   ]
  },
  {
   "cell_type": "markdown",
   "metadata": {},
   "source": [
    "# これまでのデータにはノイズがないので，ノイズを加えて表示する．"
   ]
  },
  {
   "cell_type": "code",
   "execution_count": 88,
   "metadata": {},
   "outputs": [
    {
     "data": {
      "image/png": "[encoded data removed]",
      "text/plain": [
       "<Figure size 432x288 with 1 Axes>"
      ]
     },
     "metadata": {
      "needs_background": "light"
     },
     "output_type": "display_data"
    }
   ],
   "source": [
    "import numpy as np\n",
    "import matplotlib.pyplot as plt\n",
    "\n",
    "# 目的関数\n",
    "def mathfunc(x):\n",
    "    y = x**4 - 8*x**3 + 18*x**2 - 3*x - 11\n",
    "    return y\n",
    "\n",
    "# 定義域（xの範囲: -1.0から4.5）\n",
    "# 生成するデータの個数は100個\n",
    "xmin = -1.0\n",
    "xmax = 4.5\n",
    "num = 100 \n",
    "\n",
    "# 乱数の種を設定\n",
    "np.random.seed(0)\n",
    "\n",
    "# ランダムにxを生成\n",
    "x = (xmax - xmin) * np.random.rand(num) + xmin\n",
    "\n",
    "# ｘからｙを生成する．\n",
    "y = mathfunc(x)\n",
    "\n",
    "# yにノイズ（正規乱数（平均0．0， 標準偏差1.5））を加える．\n",
    "y += np.random.normal(loc=0.0, scale=1.5, size=num)\n",
    "\n",
    "# グラフ表示\n",
    "plt.scatter(x, y) # 散布図\n",
    "plt.xlim(xmin, xmax)\n",
    "plt.grid(True)\n",
    "plt.show()"
   ]
  },
  {
   "cell_type": "markdown",
   "metadata": {},
   "source": [
    "# このデータを扱いやすいようにPandasに変換する"
   ]
  },
  {
   "cell_type": "code",
   "execution_count": 89,
   "metadata": {},
   "outputs": [
    {
     "data": {
      "text/plain": [
       "array([ 2.01847427,  2.93354152,  2.31519857,  1.99685751,  1.3301014 ,\n",
       "        2.55241762,  1.40672966,  3.9047515 ,  4.30014518,  1.10892835,\n",
       "        3.35448771,  1.90892206,  2.12424509,  4.09078151, -0.60930168,\n",
       "       -0.52078885, -0.88879881,  3.57940915,  3.27986213,  3.78506682,\n",
       "        4.38240088,  3.3953721 ,  1.53813649,  3.29291047, -0.34949066,\n",
       "        2.51956562, -0.21155692,  4.19567904,  1.87016577,  1.28064067,\n",
       "        0.45505587,  3.25828529,  1.50882683,  2.12638672, -0.8966561 ,\n",
       "        2.39699523,  2.36652647,  2.39313698,  4.19061443,  2.75001165,\n",
       "        0.97729345,  1.40367575,  2.83697158, -0.66875991,  2.66721693,\n",
       "        2.68850828,  0.15710409, -0.29090536,  0.73485593,  1.00040924,\n",
       "        2.13608224,  1.41230832,  4.43605611, -0.43875354,  0.14882216,\n",
       "       -0.11279765,  2.59209579,  0.39310381,  1.56470925,  0.34434076,\n",
       "       -0.12566729, -0.39293672,  2.60981274, -0.23999377,  0.08120299,\n",
       "        1.02798844,  3.51546276, -0.46594298,  3.60869699, -0.47145876,\n",
       "        4.37052706,  1.57758161,  4.37218599,  2.32665036,  3.06594969,\n",
       "       -0.78446714,  0.55543829, -0.33891891,  0.62877109, -0.34699755,\n",
       "        0.74890749,  1.27844647, -0.64718877,  2.80859666,  2.116308  ,\n",
       "        0.4596422 ,  1.87786429, -0.48332719,  2.16770573,  4.11112909,\n",
       "        0.75212924,  2.67075709, -0.27511176,  2.93979962,  0.59173351,\n",
       "        0.00755249,  2.22582114, -0.8894085 ,  3.55917016, -0.97417488])"
      ]
     },
     "execution_count": 89,
     "metadata": {},
     "output_type": "execute_result"
    }
   ],
   "source": [
    "ｘ"
   ]
  },
  {
   "cell_type": "code",
   "execution_count": 30,
   "metadata": {},
   "outputs": [
    {
     "data": {
      "text/plain": [
       "array([ 5.34259892e+00,  8.54946058e+00,  8.68825613e+00,  4.67986275e+00,\n",
       "        3.39168969e+00,  1.08680563e+01,  3.81388217e+00,  7.64835261e+00,\n",
       "        1.31417562e+01, -7.28293410e-03,  5.52574415e+00,  8.32857556e+00,\n",
       "        7.84125514e+00,  1.17995144e+01, -7.62736083e-03, -2.29224324e+00,\n",
       "        1.21424763e+01,  8.83134811e+00,  6.44459457e+00,  7.56308677e+00,\n",
       "        1.98968179e+01,  4.06389761e+00,  1.55055209e+00,  7.68324752e+00,\n",
       "       -9.15620238e+00,  1.09664414e+01, -1.01023926e+01,  1.11732775e+01,\n",
       "        9.13438448e+00,  2.78689178e+00, -6.54743222e+00,  7.65758369e+00,\n",
       "        1.86299118e+00,  1.04014446e+01,  1.21734612e+01,  9.26786887e+00,\n",
       "        9.46550807e+00,  7.82971742e+00,  1.31098424e+01,  9.07468933e+00,\n",
       "       -2.73049972e+00,  3.62115068e-01,  7.91981688e+00,  3.63896706e+00,\n",
       "        6.82134610e+00,  7.59854506e+00, -1.17101837e+01, -5.62601493e+00,\n",
       "       -5.35892852e+00, -2.38348712e+00,  6.41476975e+00,  2.91741476e+00,\n",
       "        1.77793051e+01, -5.45815460e+00, -1.20274494e+01, -9.40629436e+00,\n",
       "        8.84480516e+00, -1.01723015e+01,  4.31659003e+00, -1.18509149e+01,\n",
       "       -1.25594977e+01, -5.87372316e+00,  8.20613294e+00, -8.17682459e+00,\n",
       "       -7.55444124e+00, -1.21951815e+00,  4.70281351e+00, -3.16240097e+00,\n",
       "        4.23944530e+00, -5.38933295e+00,  1.66115215e+01,  6.41913821e+00,\n",
       "        1.56463262e+01,  6.76477623e+00,  6.65563843e+00,  5.67590152e+00,\n",
       "       -6.69884465e+00, -9.21091562e+00, -9.32354944e+00, -8.09965988e+00,\n",
       "       -6.94395340e+00,  3.43375893e+00,  2.24911232e+00,  7.67883060e+00,\n",
       "        5.66240440e+00, -8.04174194e+00,  4.79971819e+00, -6.70444872e+00,\n",
       "        9.45261308e+00,  1.11535180e+01, -4.77634017e+00,  8.33481006e+00,\n",
       "       -7.35475583e+00,  6.20320319e+00, -9.55884396e+00, -9.99924242e+00,\n",
       "        6.62062059e+00,  1.11270262e+01,  5.43629986e+00,  1.73277425e+01])"
      ]
     },
     "execution_count": 30,
     "metadata": {},
     "output_type": "execute_result"
    }
   ],
   "source": [
    "y"
   ]
  },
  {
   "cell_type": "code",
   "execution_count": 32,
   "metadata": {},
   "outputs": [],
   "source": [
    "array = np.array([x,y])"
   ]
  },
  {
   "cell_type": "code",
   "execution_count": 35,
   "metadata": {},
   "outputs": [
    {
     "data": {
      "text/plain": [
       "2.018474271600286"
      ]
     },
     "execution_count": 35,
     "metadata": {},
     "output_type": "execute_result"
    }
   ],
   "source": [
    "array[0,0] # xの0番目のデータ"
   ]
  },
  {
   "cell_type": "code",
   "execution_count": 38,
   "metadata": {},
   "outputs": [
    {
     "data": {
      "text/plain": [
       "5.3425989210442575"
      ]
     },
     "execution_count": 38,
     "metadata": {},
     "output_type": "execute_result"
    }
   ],
   "source": [
    "array[1,0] # yの0番目のデータ"
   ]
  },
  {
   "cell_type": "code",
   "execution_count": 40,
   "metadata": {},
   "outputs": [],
   "source": [
    "# Pandasのデータフレーム形式に変換する\n",
    "\n",
    "import pandas as pd\n",
    "\n",
    "df = pd.DataFrame(array.T, columns=['x','y'])"
   ]
  },
  {
   "cell_type": "code",
   "execution_count": 42,
   "metadata": {},
   "outputs": [
    {
     "data": {
      "text/html": [
       "<div>\n",
       "<style scoped>\n",
       "    .dataframe tbody tr th:only-of-type {\n",
       "        vertical-align: middle;\n",
       "    }\n",
       "\n",
       "    .dataframe tbody tr th {\n",
       "        vertical-align: top;\n",
       "    }\n",
       "\n",
       "    .dataframe thead th {\n",
       "        text-align: right;\n",
       "    }\n",
       "</style>\n",
       "<table border=\"1\" class=\"dataframe\">\n",
       "  <thead>\n",
       "    <tr style=\"text-align: right;\">\n",
       "      <th></th>\n",
       "      <th>x</th>\n",
       "      <th>y</th>\n",
       "    </tr>\n",
       "  </thead>\n",
       "  <tbody>\n",
       "    <tr>\n",
       "      <td>0</td>\n",
       "      <td>2.018474</td>\n",
       "      <td>5.342599</td>\n",
       "    </tr>\n",
       "    <tr>\n",
       "      <td>1</td>\n",
       "      <td>2.933542</td>\n",
       "      <td>8.549461</td>\n",
       "    </tr>\n",
       "    <tr>\n",
       "      <td>2</td>\n",
       "      <td>2.315199</td>\n",
       "      <td>8.688256</td>\n",
       "    </tr>\n",
       "    <tr>\n",
       "      <td>3</td>\n",
       "      <td>1.996858</td>\n",
       "      <td>4.679863</td>\n",
       "    </tr>\n",
       "    <tr>\n",
       "      <td>4</td>\n",
       "      <td>1.330101</td>\n",
       "      <td>3.391690</td>\n",
       "    </tr>\n",
       "    <tr>\n",
       "      <td>...</td>\n",
       "      <td>...</td>\n",
       "      <td>...</td>\n",
       "    </tr>\n",
       "    <tr>\n",
       "      <td>95</td>\n",
       "      <td>0.007552</td>\n",
       "      <td>-9.999242</td>\n",
       "    </tr>\n",
       "    <tr>\n",
       "      <td>96</td>\n",
       "      <td>2.225821</td>\n",
       "      <td>6.620621</td>\n",
       "    </tr>\n",
       "    <tr>\n",
       "      <td>97</td>\n",
       "      <td>-0.889408</td>\n",
       "      <td>11.127026</td>\n",
       "    </tr>\n",
       "    <tr>\n",
       "      <td>98</td>\n",
       "      <td>3.559170</td>\n",
       "      <td>5.436300</td>\n",
       "    </tr>\n",
       "    <tr>\n",
       "      <td>99</td>\n",
       "      <td>-0.974175</td>\n",
       "      <td>17.327742</td>\n",
       "    </tr>\n",
       "  </tbody>\n",
       "</table>\n",
       "<p>100 rows × 2 columns</p>\n",
       "</div>"
      ],
      "text/plain": [
       "           x          y\n",
       "0   2.018474   5.342599\n",
       "1   2.933542   8.549461\n",
       "2   2.315199   8.688256\n",
       "3   1.996858   4.679863\n",
       "4   1.330101   3.391690\n",
       "..       ...        ...\n",
       "95  0.007552  -9.999242\n",
       "96  2.225821   6.620621\n",
       "97 -0.889408  11.127026\n",
       "98  3.559170   5.436300\n",
       "99 -0.974175  17.327742\n",
       "\n",
       "[100 rows x 2 columns]"
      ]
     },
     "execution_count": 42,
     "metadata": {},
     "output_type": "execute_result"
    }
   ],
   "source": [
    "df"
   ]
  },
  {
   "cell_type": "code",
   "execution_count": 43,
   "metadata": {},
   "outputs": [
    {
     "data": {
      "text/plain": [
       "2.018474271600286"
      ]
     },
     "execution_count": 43,
     "metadata": {},
     "output_type": "execute_result"
    }
   ],
   "source": [
    "df.x[0] # xの0番目のデータ"
   ]
  },
  {
   "cell_type": "code",
   "execution_count": 44,
   "metadata": {},
   "outputs": [
    {
     "data": {
      "text/plain": [
       "5.3425989210442575"
      ]
     },
     "execution_count": 44,
     "metadata": {},
     "output_type": "execute_result"
    }
   ],
   "source": [
    "df.y[0] # yの0番目のデータ"
   ]
  },
  {
   "cell_type": "code",
   "execution_count": 111,
   "metadata": {},
   "outputs": [],
   "source": [
    "# データをｘの小さい順にソートする\n",
    "df = df.sort_values('x')"
   ]
  },
  {
   "cell_type": "code",
   "execution_count": 113,
   "metadata": {},
   "outputs": [
    {
     "data": {
      "text/html": [
       "<div>\n",
       "<style scoped>\n",
       "    .dataframe tbody tr th:only-of-type {\n",
       "        vertical-align: middle;\n",
       "    }\n",
       "\n",
       "    .dataframe tbody tr th {\n",
       "        vertical-align: top;\n",
       "    }\n",
       "\n",
       "    .dataframe thead th {\n",
       "        text-align: right;\n",
       "    }\n",
       "</style>\n",
       "<table border=\"1\" class=\"dataframe\">\n",
       "  <thead>\n",
       "    <tr style=\"text-align: right;\">\n",
       "      <th></th>\n",
       "      <th>x</th>\n",
       "      <th>y</th>\n",
       "    </tr>\n",
       "  </thead>\n",
       "  <tbody>\n",
       "    <tr>\n",
       "      <td>99</td>\n",
       "      <td>-0.974175</td>\n",
       "      <td>17.327742</td>\n",
       "    </tr>\n",
       "    <tr>\n",
       "      <td>34</td>\n",
       "      <td>-0.896656</td>\n",
       "      <td>12.173461</td>\n",
       "    </tr>\n",
       "    <tr>\n",
       "      <td>97</td>\n",
       "      <td>-0.889408</td>\n",
       "      <td>11.127026</td>\n",
       "    </tr>\n",
       "    <tr>\n",
       "      <td>16</td>\n",
       "      <td>-0.888799</td>\n",
       "      <td>12.142476</td>\n",
       "    </tr>\n",
       "    <tr>\n",
       "      <td>75</td>\n",
       "      <td>-0.784467</td>\n",
       "      <td>5.675902</td>\n",
       "    </tr>\n",
       "    <tr>\n",
       "      <td>...</td>\n",
       "      <td>...</td>\n",
       "      <td>...</td>\n",
       "    </tr>\n",
       "    <tr>\n",
       "      <td>8</td>\n",
       "      <td>4.300145</td>\n",
       "      <td>13.141756</td>\n",
       "    </tr>\n",
       "    <tr>\n",
       "      <td>70</td>\n",
       "      <td>4.370527</td>\n",
       "      <td>16.611522</td>\n",
       "    </tr>\n",
       "    <tr>\n",
       "      <td>72</td>\n",
       "      <td>4.372186</td>\n",
       "      <td>15.646326</td>\n",
       "    </tr>\n",
       "    <tr>\n",
       "      <td>20</td>\n",
       "      <td>4.382401</td>\n",
       "      <td>19.896818</td>\n",
       "    </tr>\n",
       "    <tr>\n",
       "      <td>52</td>\n",
       "      <td>4.436056</td>\n",
       "      <td>17.779305</td>\n",
       "    </tr>\n",
       "  </tbody>\n",
       "</table>\n",
       "<p>100 rows × 2 columns</p>\n",
       "</div>"
      ],
      "text/plain": [
       "           x          y\n",
       "99 -0.974175  17.327742\n",
       "34 -0.896656  12.173461\n",
       "97 -0.889408  11.127026\n",
       "16 -0.888799  12.142476\n",
       "75 -0.784467   5.675902\n",
       "..       ...        ...\n",
       "8   4.300145  13.141756\n",
       "70  4.370527  16.611522\n",
       "72  4.372186  15.646326\n",
       "20  4.382401  19.896818\n",
       "52  4.436056  17.779305\n",
       "\n",
       "[100 rows x 2 columns]"
      ]
     },
     "execution_count": 113,
     "metadata": {},
     "output_type": "execute_result"
    }
   ],
   "source": [
    "df"
   ]
  },
  {
   "cell_type": "code",
   "execution_count": 91,
   "metadata": {},
   "outputs": [
    {
     "data": {
      "image/png": "[encoded data removed]",
      "text/plain": [
       "<Figure size 432x288 with 1 Axes>"
      ]
     },
     "metadata": {
      "needs_background": "light"
     },
     "output_type": "display_data"
    }
   ],
   "source": [
    "# グラフ表示\n",
    "plt.scatter(df.x, df.y) # 散布図\n",
    "plt.xlim(xmin, xmax)\n",
    "plt.grid(True)\n",
    "plt.show()"
   ]
  },
  {
   "cell_type": "markdown",
   "metadata": {},
   "source": [
    "# これでデータ生成が完了"
   ]
  },
  {
   "cell_type": "markdown",
   "metadata": {},
   "source": [
    "# ここから最小二乗法のパラメータを求める．（素朴な方法）\n",
    "# 次数=2"
   ]
  },
  {
   "cell_type": "code",
   "execution_count": 92,
   "metadata": {},
   "outputs": [],
   "source": [
    "# 連立1次方程式 Ax = bの行列Aを求める\n",
    "# 次数2のとき\n",
    "matrixA = np.zeros((2,2))\n",
    "b = np.zeros((2,1))"
   ]
  },
  {
   "cell_type": "code",
   "execution_count": 93,
   "metadata": {},
   "outputs": [],
   "source": [
    "matrixA[0,0] = sum(df.x * df.x)\n",
    "matrixA[0,1] = sum(df.x)\n",
    "matrixA[1,0] = sum(df.x)\n",
    "matrixA[1,1] = len(df.x)\n",
    "\n",
    "b[0,0] = sum(df.x*df.y)\n",
    "b[1,0] = sum(df.y)"
   ]
  },
  {
   "cell_type": "code",
   "execution_count": 94,
   "metadata": {},
   "outputs": [
    {
     "data": {
      "text/plain": [
       "array([[507.5485627 , 160.03661173],\n",
       "       [160.03661173, 100.        ]])"
      ]
     },
     "execution_count": 94,
     "metadata": {},
     "output_type": "execute_result"
    }
   ],
   "source": [
    "matrixA"
   ]
  },
  {
   "cell_type": "code",
   "execution_count": 95,
   "metadata": {},
   "outputs": [
    {
     "data": {
      "text/plain": [
       "array([[1325.90319346],\n",
       "       [ 288.22870998]])"
      ]
     },
     "execution_count": 95,
     "metadata": {},
     "output_type": "execute_result"
    }
   ],
   "source": [
    "b"
   ]
  },
  {
   "cell_type": "code",
   "execution_count": 96,
   "metadata": {},
   "outputs": [
    {
     "data": {
      "text/plain": [
       "array([[ 3.43883763],\n",
       "       [-2.62111213]])"
      ]
     },
     "execution_count": 96,
     "metadata": {},
     "output_type": "execute_result"
    }
   ],
   "source": [
    "# 行列Aの逆行列を求めて，ベクトルbに左から掛ける\n",
    "ans = np.dot(np.linalg.inv(matrixA),b)\n",
    "ans"
   ]
  },
  {
   "cell_type": "code",
   "execution_count": 97,
   "metadata": {},
   "outputs": [
    {
     "data": {
      "image/png": "[encoded data removed]",
      "text/plain": [
       "<Figure size 432x288 with 1 Axes>"
      ]
     },
     "metadata": {
      "needs_background": "light"
     },
     "output_type": "display_data"
    }
   ],
   "source": [
    "# 求めたパラメータをグラフに表示する\n",
    "\n",
    "# 求めた関数\n",
    "def solve_func(x):\n",
    "    y = ans[0] * x + ans[1]\n",
    "    return y\n",
    "\n",
    "# 定義域（xの範囲: -1.0から4.5）\n",
    "# 生成するデータの個数は100個\n",
    "xmin = -1.0\n",
    "xmax = 4.5\n",
    "num = 100 \n",
    "\n",
    "# xを生成\n",
    "# xminからxmaxまでをnum個で区切る\n",
    "x = np.linspace(xmin, xmax, num)\n",
    "\n",
    "# ｘからｙを生成する．\n",
    "y = solve_func(x)\n",
    "\n",
    "# グラフ表示\n",
    "plt.plot(x, y) # 求めたパラメータから直線を引く\n",
    "\n",
    "plt.scatter(df.x, df.y) # 散布図\n",
    "plt.xlim(xmin, xmax)\n",
    "plt.grid(True)\n",
    "plt.show()"
   ]
  },
  {
   "cell_type": "markdown",
   "metadata": {},
   "source": [
    "# ここから最小二乗法のパラメータを求める．（素朴な方法）\n",
    "# 次数=4"
   ]
  },
  {
   "cell_type": "code",
   "execution_count": 98,
   "metadata": {},
   "outputs": [
    {
     "data": {
      "text/plain": [
       "array([[ 0.72803602],\n",
       "       [ 1.02925265],\n",
       "       [-2.46003031]])"
      ]
     },
     "execution_count": 98,
     "metadata": {},
     "output_type": "execute_result"
    }
   ],
   "source": [
    "# 連立1次方程式 Ax = bの行列Aを求める\n",
    "# 次数2のとき\n",
    "matrixA = np.zeros((3,3))\n",
    "b = np.zeros((3,1))\n",
    "\n",
    "matrixA[0,0] = sum(df.x * df.x *df.x*df.x)\n",
    "matrixA[0,1] = sum(df.x * df.x *df.x)\n",
    "matrixA[0,2] = sum(df.x * df.x)\n",
    "matrixA[1,0] = sum(df.x * df.x *df.x)\n",
    "matrixA[1,1] = sum(df.x * df.x)\n",
    "matrixA[1,2] = sum(df.x)\n",
    "matrixA[2,0] = sum(df.x * df.x)\n",
    "matrixA[2,1] = sum(df.x)\n",
    "matrixA[2,2] = len(df.x)\n",
    "\n",
    "b[0,0] = sum(df.x*df.x*df.y)\n",
    "b[1,0] = sum(df.x*df.y)\n",
    "b[2,0] = sum(df.y)\n",
    "\n",
    "ans = np.dot(np.linalg.inv(matrixA),b)\n",
    "ans"
   ]
  },
  {
   "cell_type": "code",
   "execution_count": 99,
   "metadata": {},
   "outputs": [
    {
     "data": {
      "image/png": "[encoded data removed]",
      "text/plain": [
       "<Figure size 432x288 with 1 Axes>"
      ]
     },
     "metadata": {
      "needs_background": "light"
     },
     "output_type": "display_data"
    }
   ],
   "source": [
    "# 求めたパラメータをグラフに表示する\n",
    "\n",
    "# 求めた関数\n",
    "def solve_func(x):\n",
    "    y = ans[0]*x*x + ans[1]*x + ans[2]\n",
    "    return y\n",
    "\n",
    "# 定義域（xの範囲: -1.0から4.5）\n",
    "# 生成するデータの個数は100個\n",
    "xmin = -1.0\n",
    "xmax = 4.5\n",
    "num = 100 \n",
    "\n",
    "# xを生成\n",
    "# xminからxmaxまでをnum個で区切る\n",
    "x = np.linspace(xmin, xmax, num)\n",
    "\n",
    "# ｘからｙを生成する．\n",
    "y = solve_func(x)\n",
    "\n",
    "# グラフ表示\n",
    "plt.plot(x, y) # 求めたパラメータから直線を引く\n",
    "\n",
    "plt.scatter(df.x, df.y) # 散布図\n",
    "plt.xlim(xmin, xmax)\n",
    "plt.grid(True)\n",
    "plt.show()"
   ]
  },
  {
   "cell_type": "markdown",
   "metadata": {},
   "source": [
    "# 機械学習ライブラリを使って，求める"
   ]
  },
  {
   "cell_type": "code",
   "execution_count": 100,
   "metadata": {},
   "outputs": [
    {
     "data": {
      "image/png": "[encoded data removed]",
      "text/plain": [
       "<Figure size 432x288 with 1 Axes>"
      ]
     },
     "metadata": {
      "needs_background": "light"
     },
     "output_type": "display_data"
    }
   ],
   "source": [
    "# numpyのライブラリを使ってパラメータを求める\n",
    "ans = np.polyfit(df.x, df.y, 4)\n",
    "\n",
    "# 求めたパラメータをグラフに表示する\n",
    "\n",
    "# 求めた関数\n",
    "def solve_func(x):\n",
    "    y = ans[0]*x*x*x*x + ans[1]*x*x*x + ans[2]*x*x + ans[3]*x + ans[4]\n",
    "    return y\n",
    "\n",
    "# 定義域（xの範囲: -1.0から4.5）\n",
    "# 生成するデータの個数は100個\n",
    "xmin = -1.0\n",
    "xmax = 4.5\n",
    "num = 100 \n",
    "\n",
    "# xを生成\n",
    "# xminからxmaxまでをnum個で区切る\n",
    "x = np.linspace(xmin, xmax, num)\n",
    "\n",
    "# ｘからｙを生成する．\n",
    "y = solve_func(x)\n",
    "\n",
    "# グラフ表示\n",
    "plt.plot(x, y) # 求めたパラメータから直線を引く\n",
    "\n",
    "plt.scatter(df.x, df.y) # 散布図\n",
    "plt.xlim(xmin, xmax)\n",
    "plt.grid(True)\n",
    "plt.show()"
   ]
  },
  {
   "cell_type": "code",
   "execution_count": 118,
   "metadata": {},
   "outputs": [
    {
     "data": {
      "text/plain": [
       "array([  1.00698752,  -8.02485901,  17.86535698,  -2.59884428,\n",
       "       -10.67072881])"
      ]
     },
     "execution_count": 118,
     "metadata": {},
     "output_type": "execute_result"
    }
   ],
   "source": [
    "# 最小二乗法（次数4）\n",
    "np.polyfit(df.x, df.y, 4)"
   ]
  },
  {
   "cell_type": "code",
   "execution_count": 119,
   "metadata": {},
   "outputs": [
    {
     "data": {
      "text/plain": [
       "poly1d([  1.00698752,  -8.02485901,  17.86535698,  -2.59884428,\n",
       "       -10.67072881])"
      ]
     },
     "execution_count": 119,
     "metadata": {},
     "output_type": "execute_result"
    }
   ],
   "source": [
    "# 求めたパラメータを持つ多項式を作成\n",
    "np.poly1d(np.polyfit(df.x, df.y, 4))"
   ]
  },
  {
   "cell_type": "code",
   "execution_count": 120,
   "metadata": {},
   "outputs": [
    {
     "data": {
      "text/plain": [
       "array([ 17.14149618,  12.45922454,  12.0491841 ,  12.01490215,\n",
       "         6.6174858 ,   1.65899772,   0.84619774,  -0.50073042,\n",
       "        -3.26424194,  -4.28017556,  -4.58379053,  -4.72195727,\n",
       "        -5.37619856,  -6.38028237,  -7.22272663,  -7.26793074,\n",
       "        -7.41211238,  -8.19806995,  -8.43072622,  -8.90376366,\n",
       "        -9.24333691, -10.04582755, -10.13859883, -10.68934097,\n",
       "       -10.768213  , -10.6877688 , -10.66857431,  -9.76079865,\n",
       "        -9.39503603,  -8.86687539,  -8.82517543,  -7.88184379,\n",
       "        -7.49227024,  -7.07915912,  -5.823844  ,  -5.65096481,\n",
       "        -5.61114447,  -2.71924747,  -2.41673262,  -2.05607015,\n",
       "        -1.00374281,   1.12824675,   1.15489024,   1.74732709,\n",
       "         2.59666657,   2.63101975,   2.69357844,   3.73367806,\n",
       "         4.03268485,   4.29654722,   4.42183474,   6.78142823,\n",
       "         6.83010112,   7.01918059,   7.49083259,   7.59230428,\n",
       "         7.98030447,   8.00669524,   8.01368634,   8.04464716,\n",
       "         8.13781959,   8.2782272 ,   8.41834706,   8.42985652,\n",
       "         8.45887799,   8.46888729,   8.46972939,   8.42025917,\n",
       "         8.38343552,   8.32686161,   8.2975384 ,   8.18652555,\n",
       "         8.17892256,   8.13955352,   7.98822376,   7.82541095,\n",
       "         7.74115783,   7.43551697,   7.4150042 ,   6.99784627,\n",
       "         6.43308701,   6.38233061,   6.3533785 ,   6.23679093,\n",
       "         6.18026151,   6.13478279,   6.17152085,   6.19962457,\n",
       "         6.25358222,   6.96496131,   7.90541783,  10.30671672,\n",
       "        10.64966067,  12.16008382,  12.26592861,  14.72501921,\n",
       "        16.69873244,  16.74852858,  17.05856856,  18.78586154])"
      ]
     },
     "execution_count": 120,
     "metadata": {},
     "output_type": "execute_result"
    }
   ],
   "source": [
    "# 求めた多項式f(x)にｘを与えて，yを計算する．\n",
    "np.poly1d(np.polyfit(df.x, df.y, 4))(df.x)"
   ]
  },
  {
   "cell_type": "code",
   "execution_count": 117,
   "metadata": {},
   "outputs": [
    {
     "data": {
      "image/png": "[encoded data removed]",
      "text/plain": [
       "<Figure size 432x288 with 1 Axes>"
      ]
     },
     "metadata": {
      "needs_background": "light"
     },
     "output_type": "display_data"
    }
   ],
   "source": [
    "# それを一度に書くと以下のようになる．\n",
    "plt.plot(df.x, np.poly1d(np.polyfit(df.x, df.y, 4))(df.x))\n",
    "\n",
    "plt.scatter(df.x, df.y) # 散布図\n",
    "plt.grid(True)"
   ]
  }
 ],
 "metadata": {
  "kernelspec": {
   "display_name": "Python 3",
   "language": "python",
   "name": "python3"
  },
  "language_info": {
   "codemirror_mode": {
    "name": "ipython",
    "version": 3
   },
   "file_extension": ".py",
   "mimetype": "text/x-python",
   "name": "python",
   "nbconvert_exporter": "python",
   "pygments_lexer": "ipython3",
   "version": "3.7.4"
  }
 },
 "nbformat": 4,
 "nbformat_minor": 2
}
