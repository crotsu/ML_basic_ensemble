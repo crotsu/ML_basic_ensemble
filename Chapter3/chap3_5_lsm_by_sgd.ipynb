{
 "cells": [
  {
   "cell_type": "markdown",
   "metadata": {},
   "source": [
    "# 第3章 （4）最小二乗法のパラメータを最急降下法で最適化する\n",
    "## 最急降下法で求める"
   ]
  },
  {
   "cell_type": "markdown",
   "metadata": {},
   "source": [
    "まず，データを生成する．"
   ]
  },
  {
   "cell_type": "markdown",
   "metadata": {},
   "source": [
    "下記の式に，ノイズとして正規乱数（平均0．0，標準偏差0.5）が付加されてデータが生成されていると仮定する．\n",
    "\n",
    "$$\n",
    " f(x)=0.7x+1.2\n",
    "$$"
   ]
  },
  {
   "cell_type": "code",
   "execution_count": 51,
   "metadata": {},
   "outputs": [
    {
     "data": {
      "image/png": "[encoded data removed]",
      "text/plain": [
       "<Figure size 432x288 with 1 Axes>"
      ]
     },
     "metadata": {
      "needs_background": "light"
     },
     "output_type": "display_data"
    }
   ],
   "source": [
    "import numpy as np\n",
    "import matplotlib.pyplot as plt\n",
    "\n",
    "# 目的関数\n",
    "def mathfunc(x):\n",
    "    y = 0.7*x+1.2\n",
    "    return y\n",
    "\n",
    "# 定義域（xの範囲: -1.0から4.0）\n",
    "# 生成するデータの個数は20個\n",
    "xmin = -1.0\n",
    "xmax = 4.0\n",
    "num = 20\n",
    "\n",
    "# 乱数の種を設定\n",
    "np.random.seed(5)\n",
    "\n",
    "# ランダムにxを生成\n",
    "x = (xmax - xmin) * np.random.rand(num) + xmin\n",
    "\n",
    "# ｘからｙを生成する．\n",
    "y = mathfunc(x)\n",
    "\n",
    "# yにノイズ（正規乱数（平均0．0， 標準偏差0.5））を加える．\n",
    "y += np.random.normal(loc=0.0, scale=0.5, size=num)\n",
    "\n",
    "\n",
    "# pandasを使ってDataFrameにする\n",
    "array = np.array([x,y])\n",
    "import pandas as pd\n",
    "df = pd.DataFrame(array.T, columns=['x','y'])\n",
    "df = df.sort_values('x')\n",
    "\n",
    "# グラフ表示\n",
    "plt.scatter(df.x, df.y) # 散布図\n",
    "plt.xlim(xmin, xmax)\n",
    "plt.grid(True)\n",
    "plt.show()"
   ]
  },
  {
   "cell_type": "markdown",
   "metadata": {},
   "source": [
    "最小二乗法の目的関数を作成する．\n",
    "\n",
    "求めたい多項式  \n",
    "\n",
    "$$\n",
    "\\begin{align}\n",
    "f(x) &= a x + b\n",
    "\\end{align}\n",
    "$$\n",
    "\n",
    "目的関数  \n",
    "$$\n",
    "J(a,b) = \\frac{1}{2}\\sum_{\\alpha=1}^N \\left(y_\\alpha - f(x_\\alpha)\\right)^2\n",
    "$$"
   ]
  },
  {
   "cell_type": "markdown",
   "metadata": {},
   "source": [
    "目的関数のグラフを描いてみよう．\n",
    "まず，目的関数を展開する．\n",
    "$$\n",
    "\\begin{align}\n",
    "J(a,b) &= \\frac{1}{2}\\sum_{\\alpha=1}^N \\left(y_\\alpha - f(x_\\alpha)\\right)^2\\\\\n",
    "&=\\frac{1}{2}\\sum_{\\alpha=1}^N \\left(y_\\alpha - (ax_\\alpha+b)\\right)^2\\\\\n",
    "&=\\frac{1}{2}\\sum_{\\alpha=1}^N \\left(y_\\alpha^2 - 2y_\\alpha(ax_\\alpha+b)+(ax_\\alpha+b)^2\\right)\\\\\n",
    "&=\\frac{1}{2}\\sum_{\\alpha=1}^N \\left(y_\\alpha^2 - 2ax_\\alpha y_\\alpha-2by_\\alpha + a^2x_\\alpha^2+2abx_\\alpha+b^2\\right)\\\\\n",
    "&=\\frac{1}{2}\\left\\{\\sum_{\\alpha=1}^N y^2-2a\\sum_{\\alpha=1}^N x_\\alpha y_\\alpha -2b \\sum_{\\alpha=1}^N y_\\alpha + a^2 \\sum_{\\alpha=1}^N x_\\alpha ^2 + 2ab \\sum_{\\alpha=1}^N x_\\alpha + b^2 \\sum_{\\alpha=1}^N 1\\right\\}\\\\\n",
    "\\end{align}\n",
    "$$"
   ]
  },
  {
   "cell_type": "code",
   "execution_count": 66,
   "metadata": {},
   "outputs": [
    {
     "name": "stdout",
     "output_type": "stream",
     "text": [
      "115.31961082284775\n",
      "171.778873037097\n",
      "86.13927091200374\n",
      "71.64662401762588\n",
      "55.788229864823506\n",
      "20\n"
     ]
    }
   ],
   "source": [
    "# データからΣのところを求める．\n",
    "\n",
    "print(sum(df.y**2))\n",
    "print(sum(df.x*df.y)*2)\n",
    "print(sum(df.y)*2)\n",
    "print(sum(df.x**2))\n",
    "print(sum(df.x)*2)\n",
    "print(len(df.x))"
   ]
  },
  {
   "cell_type": "markdown",
   "metadata": {},
   "source": [
    "よって，目的関数は，\n",
    "$$\n",
    "J(a,b) = \\frac{1.0}{2.0}\\left(115.32-171.78a-86.14b+71.65a^2+55.79ab+20b^2\\right)\n",
    "$$\n",
    "\n",
    "gnuplotでは以下のように入力する. \n",
    "```\n",
    "splot[-10:10][-10:10] (1.0/2.0)*(115.32-171.78*x-86.14*y+71.65*x**2+55.79*x*y+20*y**2)\n",
    "```"
   ]
  },
  {
   "cell_type": "markdown",
   "metadata": {},
   "source": [
    "これをグラフに表示すると，以下のようになる．\n",
    "![title](./img/obj1.gif)\n",
    "![title](./img/obj2.gif)\n",
    "\n",
    "関数は確かに下に凸のグラフで，最小値をとるa,bを求めることができそうである．"
   ]
  },
  {
   "cell_type": "code",
   "execution_count": 62,
   "metadata": {},
   "outputs": [
    {
     "data": {
      "image/png": "[encoded data removed]",
      "text/plain": [
       "<Figure size 432x288 with 1 Axes>"
      ]
     },
     "metadata": {
      "needs_background": "light"
     },
     "output_type": "display_data"
    }
   ],
   "source": [
    "# グラフ表示\n",
    "plt.scatter(df.x, df.y) # 散布図\n",
    "plt.xlim(xmin, xmax)\n",
    "plt.grid(True)\n",
    "plt.show()"
   ]
  },
  {
   "cell_type": "code",
   "execution_count": 63,
   "metadata": {},
   "outputs": [
    {
     "name": "stdout",
     "output_type": "stream",
     "text": [
      "[0.78857557 1.05365089]\n"
     ]
    },
    {
     "data": {
      "image/png": "[encoded data removed]",
      "text/plain": [
       "<Figure size 432x288 with 1 Axes>"
      ]
     },
     "metadata": {
      "needs_background": "light"
     },
     "output_type": "display_data"
    }
   ],
   "source": [
    "# ライブラリを使って最小二乗法を行う．\n",
    "plt.plot(df.x, np.poly1d(np.polyfit(df.x, df.y, 1))(df.x),color='red')\n",
    "print(np.polyfit(df.x, df.y, 1))\n",
    "plt.scatter(df.x, df.y) # 散布図\n",
    "plt.grid(True)"
   ]
  },
  {
   "cell_type": "code",
   "execution_count": 64,
   "metadata": {},
   "outputs": [
    {
     "name": "stdout",
     "output_type": "stream",
     "text": [
      "更新回数= 97\n",
      "a= 0.7881447231750077\n",
      "b= 1.0546229437888595\n"
     ]
    },
    {
     "data": {
      "image/png": "[encoded data removed]",
      "text/plain": [
       "<Figure size 432x288 with 1 Axes>"
      ]
     },
     "metadata": {
      "needs_background": "light"
     },
     "output_type": "display_data"
    }
   ],
   "source": [
    "# 最急降下法を用いて，最小二乗法を行う\n",
    "\n",
    "# 目的関数の偏微分:a\n",
    "def ｄerivative_a(a, b):\n",
    "    z =  sum((df.y-a*df.x-b)*(-df.x))\n",
    "    return z\n",
    "\n",
    "# 目的関数の偏微分:b\n",
    "def derivative_b(a, b):\n",
    "    z =  sum((df.y-a*df.x-b)*(-1))\n",
    "    return z\n",
    "\n",
    "# 最急降下法で目的関数の最小値をとるパラメータを求める．\n",
    "eta = 0.01\n",
    "a = 10\n",
    "b =10\n",
    "\n",
    "# 終了条件\n",
    "epsilon = 0.0001\n",
    "old_para_a = a\n",
    "old_para_b = b\n",
    "\n",
    "ct = 0\n",
    "for i in range(1000):\n",
    "    # 更新式\n",
    "    a = a - eta*derivative_a(a, b)\n",
    "    b = b - eta*derivative_b(a, b)\n",
    "    #print('a={:.2f}'.format(a), 'b={:.2f}'.format(b))\n",
    "    if abs(old_para_a-a)<epsilon and abs(old_para_b-b)<epsilon :\n",
    "        break\n",
    "\n",
    "    old_para_a = a\n",
    "    old_para_b = b\n",
    "\n",
    "    ct+=1\n",
    "\n",
    "# 更新回数\n",
    "print('更新回数=', ct)\n",
    "\n",
    "# 求めたパラメータ\n",
    "print('a=', a)\n",
    "print('b=', b)\n",
    "\n",
    "\n",
    "#\n",
    "# 最急降下法で求めたパラメータを使って，グラフ表示\n",
    "#\n",
    "def mathfunc(x):\n",
    "    y = a*x+b\n",
    "    return y\n",
    "\n",
    "# グラフ描画のためのデータ作成\n",
    "xmin = -1.0\n",
    "xmax = 4.0\n",
    "num = 100\n",
    "x = np.linspace(xmin, xmax, num)\n",
    "y = mathfunc(x)\n",
    "\n",
    "# グラフ描画\n",
    "plt.plot(x, y, color='red') # 求めた直線\n",
    "plt.scatter(df.x, df.y) # 散布図\n",
    "plt.xlim(xmin, xmax)\n",
    "plt.grid(True)\n",
    "plt.show()\n"
   ]
  }
 ],
 "metadata": {
  "kernelspec": {
   "display_name": "Python 3",
   "language": "python",
   "name": "python3"
  },
  "language_info": {
   "codemirror_mode": {
    "name": "ipython",
    "version": 3
   },
   "file_extension": ".py",
   "mimetype": "text/x-python",
   "name": "python",
   "nbconvert_exporter": "python",
   "pygments_lexer": "ipython3",
   "version": "3.7.4"
  }
 },
 "nbformat": 4,
 "nbformat_minor": 2
}
